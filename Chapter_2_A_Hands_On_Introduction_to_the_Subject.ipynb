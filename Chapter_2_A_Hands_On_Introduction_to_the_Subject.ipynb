{
  "metadata": {
    "kernelspec": {
      "language": "python",
      "display_name": "Python 3",
      "name": "python3"
    },
    "language_info": {
      "name": "python",
      "version": "3.10.13",
      "mimetype": "text/x-python",
      "codemirror_mode": {
        "name": "ipython",
        "version": 3
      },
      "pygments_lexer": "ipython3",
      "nbconvert_exporter": "python",
      "file_extension": ".py"
    },
    "kaggle": {
      "accelerator": "none",
      "dataSources": [
        {
          "sourceId": 7608462,
          "sourceType": "datasetVersion",
          "datasetId": 4430106
        }
      ],
      "dockerImageVersionId": 30646,
      "isInternetEnabled": true,
      "language": "python",
      "sourceType": "notebook",
      "isGpuEnabled": false
    },
    "colab": {
      "name": "Chapter 2: A Hands-On Introduction to the Subject",
      "provenance": []
    }
  },
  "nbformat_minor": 0,
  "nbformat": 4,
  "cells": [
    {
      "source": [],
      "metadata": {
        "id": "Z7KG7StOlsec"
      },
      "cell_type": "code",
      "outputs": [],
      "execution_count": null
    },
    {
      "cell_type": "raw",
      "source": [
        "p"
      ],
      "metadata": {
        "execution": {
          "iopub.status.busy": "2024-02-14T11:15:22.759477Z",
          "iopub.execute_input": "2024-02-14T11:15:22.759879Z"
        },
        "id": "cM-T4TtYlsed"
      }
    },
    {
      "cell_type": "code",
      "source": [
        "import pandas as pd\n",
        "import numpy as np\n",
        "import transformers\n",
        "from transformers import BertTokenizer"
      ],
      "metadata": {
        "execution": {
          "iopub.status.busy": "2024-02-14T15:32:07.984971Z",
          "iopub.execute_input": "2024-02-14T15:32:07.985573Z",
          "iopub.status.idle": "2024-02-14T15:32:07.992694Z",
          "shell.execute_reply.started": "2024-02-14T15:32:07.985539Z",
          "shell.execute_reply": "2024-02-14T15:32:07.990772Z"
        },
        "trusted": true,
        "id": "4BRHsHS_lsee"
      },
      "execution_count": null,
      "outputs": []
    },
    {
      "cell_type": "code",
      "source": [
        "tokenizer=BertTokenizer.from_pretrained('BERT-base-uncased')"
      ],
      "metadata": {
        "execution": {
          "iopub.status.busy": "2024-02-14T15:32:10.164967Z",
          "iopub.execute_input": "2024-02-14T15:32:10.165449Z",
          "iopub.status.idle": "2024-02-14T15:32:15.323156Z",
          "shell.execute_reply.started": "2024-02-14T15:32:10.165416Z",
          "shell.execute_reply": "2024-02-14T15:32:15.321449Z"
        },
        "trusted": true,
        "id": "kkhgOOqWlsee",
        "outputId": "5750801e-8897-437b-fda0-3c90830cc78b",
        "colab": {
          "referenced_widgets": [
            "83274b74c1e541f381e76f4924385607",
            "012fb354852e40a7ad66de74f777405f",
            "5e9d9deaa7c4405c9053692b03ec7f79",
            "b7d9eb9a8f904e4595440cbfa6c63bfb"
          ]
        }
      },
      "execution_count": null,
      "outputs": [
        {
          "output_type": "display_data",
          "data": {
            "text/plain": "tokenizer_config.json:   0%|          | 0.00/28.0 [00:00<?, ?B/s]",
            "application/vnd.jupyter.widget-view+json": {
              "version_major": 2,
              "version_minor": 0,
              "model_id": "83274b74c1e541f381e76f4924385607"
            }
          },
          "metadata": {}
        },
        {
          "output_type": "display_data",
          "data": {
            "text/plain": "vocab.txt:   0%|          | 0.00/232k [00:00<?, ?B/s]",
            "application/vnd.jupyter.widget-view+json": {
              "version_major": 2,
              "version_minor": 0,
              "model_id": "012fb354852e40a7ad66de74f777405f"
            }
          },
          "metadata": {}
        },
        {
          "output_type": "display_data",
          "data": {
            "text/plain": "tokenizer.json:   0%|          | 0.00/466k [00:00<?, ?B/s]",
            "application/vnd.jupyter.widget-view+json": {
              "version_major": 2,
              "version_minor": 0,
              "model_id": "5e9d9deaa7c4405c9053692b03ec7f79"
            }
          },
          "metadata": {}
        },
        {
          "output_type": "display_data",
          "data": {
            "text/plain": "config.json:   0%|          | 0.00/570 [00:00<?, ?B/s]",
            "application/vnd.jupyter.widget-view+json": {
              "version_major": 2,
              "version_minor": 0,
              "model_id": "b7d9eb9a8f904e4595440cbfa6c63bfb"
            }
          },
          "metadata": {}
        }
      ]
    },
    {
      "cell_type": "markdown",
      "source": [
        "+ input_ids: This list contains token IDs representing the input sequence. The sequence starts with the special token [CLS] (represented by 101) and ends with [SEP] (represented by 102). In between, there are token IDs for the words or subwords of the actual input.\n",
        "\n",
        "- -101: [CLS] - Special token indicating the start of the sequence.\n",
        "    2478, 19081, 2003, 3733, 999: Token IDs for the actual words or subwords.\n",
        "    102: [SEP] - Special token indicating the end of the sequence.\n",
        "    token_type_ids: This list is often used in models that can accept two separate sequences, such as in question-answering tasks where there's a question and an answer. In this case, all values are 0, suggesting a single-sequence input.\n",
        "\n",
        "+ attention_mask: This list indicates which tokens the model should pay attention to (1) and which ones to ignore (0). All tokens in this example are marked for attention."
      ],
      "metadata": {
        "id": "0MDLeMEzlsef"
      }
    },
    {
      "cell_type": "code",
      "source": [
        "text=\"The quick brown fox jumps over the lazy dog\"\n",
        "tokenizer(text)"
      ],
      "metadata": {
        "execution": {
          "iopub.status.busy": "2024-02-14T15:48:38.45891Z",
          "iopub.execute_input": "2024-02-14T15:48:38.459311Z",
          "iopub.status.idle": "2024-02-14T15:48:38.468855Z",
          "shell.execute_reply.started": "2024-02-14T15:48:38.459279Z",
          "shell.execute_reply": "2024-02-14T15:48:38.467429Z"
        },
        "trusted": true,
        "id": "W3j7-2ttlseg",
        "outputId": "4b29196d-8186-4efa-ac37-c742b9ce6f0d"
      },
      "execution_count": null,
      "outputs": [
        {
          "execution_count": 7,
          "output_type": "execute_result",
          "data": {
            "text/plain": "{'input_ids': [101, 1996, 4248, 2829, 4419, 14523, 2058, 1996, 13971, 3899, 102], 'token_type_ids': [0, 0, 0, 0, 0, 0, 0, 0, 0, 0, 0], 'attention_mask': [1, 1, 1, 1, 1, 1, 1, 1, 1, 1, 1]}"
          },
          "metadata": {}
        }
      ]
    },
    {
      "cell_type": "code",
      "source": [
        "from transformers import TFBertModel"
      ],
      "metadata": {
        "execution": {
          "iopub.status.busy": "2024-02-14T15:49:27.307129Z",
          "iopub.execute_input": "2024-02-14T15:49:27.307527Z",
          "iopub.status.idle": "2024-02-14T15:49:42.293515Z",
          "shell.execute_reply.started": "2024-02-14T15:49:27.307497Z",
          "shell.execute_reply": "2024-02-14T15:49:42.292336Z"
        },
        "trusted": true,
        "id": "8ztHZa7alseh",
        "outputId": "e136f8a4-0903-4309-a4aa-6776f2130656"
      },
      "execution_count": null,
      "outputs": [
        {
          "name": "stderr",
          "text": "2024-02-14 15:49:29.646699: E external/local_xla/xla/stream_executor/cuda/cuda_dnn.cc:9261] Unable to register cuDNN factory: Attempting to register factory for plugin cuDNN when one has already been registered\n2024-02-14 15:49:29.647037: E external/local_xla/xla/stream_executor/cuda/cuda_fft.cc:607] Unable to register cuFFT factory: Attempting to register factory for plugin cuFFT when one has already been registered\n2024-02-14 15:49:29.814949: E external/local_xla/xla/stream_executor/cuda/cuda_blas.cc:1515] Unable to register cuBLAS factory: Attempting to register factory for plugin cuBLAS when one has already been registered\n",
          "output_type": "stream"
        }
      ]
    },
    {
      "cell_type": "code",
      "source": [
        "model=TFBertModel.from_pretrained(\"bert-base-uncased\")\n",
        "text=\"Happy coding day and code regularly\"\n",
        "\n",
        "encoded_input=tokenizer(text,return_tensors=\"tf\")\n",
        "\n"
      ],
      "metadata": {
        "execution": {
          "iopub.status.busy": "2024-02-14T15:50:55.981852Z",
          "iopub.execute_input": "2024-02-14T15:50:55.982353Z",
          "iopub.status.idle": "2024-02-14T15:51:01.943046Z",
          "shell.execute_reply.started": "2024-02-14T15:50:55.982316Z",
          "shell.execute_reply": "2024-02-14T15:51:01.941888Z"
        },
        "trusted": true,
        "id": "IrK6K4YZlsei",
        "outputId": "cf49521b-6ba5-4ebb-87e8-acf4cef78839",
        "colab": {
          "referenced_widgets": [
            "264f3fe1adf84680ba881bb02fe94ea1",
            "29addff0c95c4b3cada65bc679ed6e3a"
          ]
        }
      },
      "execution_count": null,
      "outputs": [
        {
          "output_type": "display_data",
          "data": {
            "text/plain": "config.json:   0%|          | 0.00/570 [00:00<?, ?B/s]",
            "application/vnd.jupyter.widget-view+json": {
              "version_major": 2,
              "version_minor": 0,
              "model_id": "264f3fe1adf84680ba881bb02fe94ea1"
            }
          },
          "metadata": {}
        },
        {
          "output_type": "display_data",
          "data": {
            "text/plain": "model.safetensors:   0%|          | 0.00/440M [00:00<?, ?B/s]",
            "application/vnd.jupyter.widget-view+json": {
              "version_major": 2,
              "version_minor": 0,
              "model_id": "29addff0c95c4b3cada65bc679ed6e3a"
            }
          },
          "metadata": {}
        },
        {
          "name": "stderr",
          "text": "Some weights of the PyTorch model were not used when initializing the TF 2.0 model TFBertModel: ['cls.predictions.transform.LayerNorm.bias', 'cls.seq_relationship.weight', 'cls.predictions.bias', 'cls.seq_relationship.bias', 'cls.predictions.transform.dense.weight', 'cls.predictions.transform.dense.bias', 'cls.predictions.transform.LayerNorm.weight']\n- This IS expected if you are initializing TFBertModel from a PyTorch model trained on another task or with another architecture (e.g. initializing a TFBertForSequenceClassification model from a BertForPreTraining model).\n- This IS NOT expected if you are initializing TFBertModel from a PyTorch model that you expect to be exactly identical (e.g. initializing a TFBertForSequenceClassification model from a BertForSequenceClassification model).\nAll the weights of TFBertModel were initialized from the PyTorch model.\nIf your task is similar to the task the model of the checkpoint was trained on, you can already use TFBertModel for predictions without further training.\n",
          "output_type": "stream"
        }
      ]
    },
    {
      "cell_type": "code",
      "source": [
        "encoded_input"
      ],
      "metadata": {
        "execution": {
          "iopub.status.busy": "2024-02-14T15:51:14.554484Z",
          "iopub.execute_input": "2024-02-14T15:51:14.554892Z",
          "iopub.status.idle": "2024-02-14T15:51:14.56435Z",
          "shell.execute_reply.started": "2024-02-14T15:51:14.554859Z",
          "shell.execute_reply": "2024-02-14T15:51:14.563152Z"
        },
        "trusted": true,
        "id": "ocgrPq7Tlsej",
        "outputId": "4cbc8470-2d18-4962-b8fc-e13b6d8243b1"
      },
      "execution_count": null,
      "outputs": [
        {
          "execution_count": 12,
          "output_type": "execute_result",
          "data": {
            "text/plain": "{'input_ids': <tf.Tensor: shape=(1, 8), dtype=int32, numpy=\narray([[  101,  3407, 16861,  2154,  1998,  3642,  5570,   102]],\n      dtype=int32)>, 'token_type_ids': <tf.Tensor: shape=(1, 8), dtype=int32, numpy=array([[0, 0, 0, 0, 0, 0, 0, 0]], dtype=int32)>, 'attention_mask': <tf.Tensor: shape=(1, 8), dtype=int32, numpy=array([[1, 1, 1, 1, 1, 1, 1, 1]], dtype=int32)>}"
          },
          "metadata": {}
        }
      ]
    },
    {
      "cell_type": "code",
      "source": [
        "output=model(**encoded_input)"
      ],
      "metadata": {
        "execution": {
          "iopub.status.busy": "2024-02-14T15:51:52.697742Z",
          "iopub.execute_input": "2024-02-14T15:51:52.698238Z",
          "iopub.status.idle": "2024-02-14T15:51:53.23475Z",
          "shell.execute_reply.started": "2024-02-14T15:51:52.698198Z",
          "shell.execute_reply": "2024-02-14T15:51:53.23347Z"
        },
        "trusted": true,
        "id": "QsXTZ6T6lsek"
      },
      "execution_count": null,
      "outputs": []
    },
    {
      "cell_type": "code",
      "source": [
        "output"
      ],
      "metadata": {
        "execution": {
          "iopub.status.busy": "2024-02-14T15:51:56.683815Z",
          "iopub.execute_input": "2024-02-14T15:51:56.684989Z",
          "iopub.status.idle": "2024-02-14T15:51:56.708126Z",
          "shell.execute_reply.started": "2024-02-14T15:51:56.684941Z",
          "shell.execute_reply": "2024-02-14T15:51:56.706729Z"
        },
        "trusted": true,
        "id": "0D5LAZOFlsek",
        "outputId": "4d23a952-77ad-45a8-8dab-051ac5e88cb6"
      },
      "execution_count": null,
      "outputs": [
        {
          "execution_count": 14,
          "output_type": "execute_result",
          "data": {
            "text/plain": "TFBaseModelOutputWithPoolingAndCrossAttentions(last_hidden_state=<tf.Tensor: shape=(1, 8, 768), dtype=float32, numpy=\narray([[[-0.12326799,  0.0144984 , -0.03242578, ..., -0.12070867,\n          0.3593427 ,  0.3845221 ],\n        [-0.10626511,  0.06623439,  0.45925814, ...,  0.20791283,\n          1.0028664 ,  0.6923769 ],\n        [ 1.1573061 ,  0.09699975, -0.17422515, ..., -0.18746766,\n         -0.00169579,  0.33297747],\n        ...,\n        [ 1.2080171 , -0.01116499,  0.06587426, ..., -0.1411488 ,\n          0.0091357 ,  0.39736244],\n        [ 0.4415597 , -0.58612424,  0.06990896, ...,  0.5982274 ,\n         -0.1881957 , -0.4334446 ],\n        [ 0.858805  ,  0.11499202, -0.39095658, ..., -0.15568326,\n         -0.7125165 , -0.18647185]]], dtype=float32)>, pooler_output=<tf.Tensor: shape=(1, 768), dtype=float32, numpy=\narray([[-0.90567404, -0.58057666, -0.97862834,  0.84197754,  0.8856953 ,\n        -0.25669727,  0.94907606,  0.43882826, -0.88552475, -0.9999965 ,\n        -0.6791646 ,  0.95100546,  0.9699102 ,  0.79048663,  0.90252244,\n        -0.75481397, -0.35346842, -0.73101395,  0.52835065, -0.47357818,\n         0.8086845 ,  0.9999993 , -0.20052281,  0.43417722,  0.6185359 ,\n         0.9938523 , -0.8258079 ,  0.9117723 ,  0.94754446,  0.7578669 ,\n        -0.70336986,  0.35753456, -0.9853064 , -0.4103124 , -0.9823437 ,\n        -0.994081  ,  0.5312776 , -0.78338784, -0.13094503, -0.1496088 ,\n        -0.90157855,  0.5615111 ,  0.9999921 ,  0.41884732,  0.6229862 ,\n        -0.3826725 , -1.        ,  0.3491482 , -0.846118  ,  0.956432  ,\n         0.9382427 ,  0.9135343 ,  0.3155161 ,  0.6507646 ,  0.52235556,\n        -0.25495973,  0.12680207,  0.24848087, -0.39308143, -0.7296002 ,\n        -0.66364384,  0.5868855 , -0.9709993 , -0.914717  ,  0.95858717,\n         0.93712807, -0.4138374 , -0.493781  , -0.22663295, -0.02122354,\n         0.92634326,  0.35475722, -0.3755202 , -0.8547982 ,  0.794353  ,\n         0.42172948, -0.7375306 ,  1.        , -0.48235846, -0.9677999 ,\n         0.9664361 ,  0.89262325,  0.6291744 , -0.66768783,  0.83701575,\n        -1.        ,  0.67794275, -0.40225235, -0.98844844,  0.4159774 ,\n         0.80671906, -0.3586153 ,  0.85272133,  0.67702156, -0.8259496 ,\n        -0.70098454, -0.46169108, -0.92726064, -0.5525341 , -0.5805445 ,\n         0.20526378, -0.3944227 , -0.4211579 , -0.4539388 ,  0.47999784,\n        -0.6121205 , -0.622344  ,  0.43414605,  0.47210482,  0.80916363,\n         0.46423915, -0.50996786,  0.6181861 , -0.9441101 ,  0.71610427,\n        -0.41658053, -0.98442626, -0.6723488 , -0.9884618 ,  0.7860514 ,\n        -0.6155139 , -0.48603755,  0.9357387 , -0.53145254,  0.52084327,\n        -0.25365436, -0.95024633, -1.        , -0.82124674, -0.65271455,\n        -0.4323367 , -0.42750385, -0.97171056, -0.9327185 ,  0.7367687 ,\n         0.9386408 ,  0.32309577,  0.9999759 , -0.5261487 ,  0.936238  ,\n        -0.61982435, -0.767194  ,  0.8145786 , -0.6022854 ,  0.8767727 ,\n         0.5136286 , -0.73073053,  0.37762296, -0.45612156,  0.629261  ,\n        -0.8425615 , -0.3769035 , -0.9154217 , -0.9356492 , -0.48301288,\n         0.9222636 , -0.7828064 , -0.9684861 , -0.4290904 , -0.35151967,\n        -0.7010884 ,  0.8963705 ,  0.76982105,  0.5548684 , -0.54397374,\n         0.53320056,  0.8080996 ,  0.7452984 , -0.84070504, -0.2690933 ,\n         0.49414703, -0.4716981 , -0.94786173, -0.9605288 , -0.58116263,\n         0.6865713 ,  0.9836575 ,  0.8257519 ,  0.4651843 ,  0.86688274,\n        -0.45898476,  0.88522923, -0.9541456 ,  0.97427076, -0.44009632,\n         0.38933384, -0.72318685,  0.63313574, -0.8304287 ,  0.5858096 ,\n         0.9046967 , -0.8672014 , -0.7614367 , -0.21989566, -0.54670537,\n        -0.5732573 , -0.92650074,  0.65577114, -0.50243676, -0.5345412 ,\n        -0.3203216 ,  0.90607387,  0.982739  ,  0.80094343,  0.58760345,\n         0.7341738 , -0.91007006, -0.5731321 ,  0.24290052,  0.35861382,\n         0.4319653 ,  0.98949426, -0.8512155 , -0.28060055, -0.91167533,\n        -0.98167175,  0.19212325, -0.86830556, -0.2942488 , -0.82909846,\n         0.8157646 , -0.6481663 ,  0.7849497 ,  0.5054331 , -0.9895214 ,\n        -0.77701855,  0.47922674, -0.503755  ,  0.56299317, -0.4185106 ,\n         0.8920541 ,  0.9805941 , -0.7336788 ,  0.63044024,  0.92546666,\n        -0.9694316 , -0.77611655,  0.8442124 , -0.45831156,  0.8562549 ,\n        -0.81493324,  0.99591035,  0.96690285,  0.8368671 , -0.8941648 ,\n        -0.9103366 , -0.92265   , -0.89229184, -0.31462628,  0.5924135 ,\n         0.96396685,  0.65146595,  0.6459041 , -0.28609285, -0.7566697 ,\n         0.998392  , -0.91467285, -0.9473881 , -0.8379717 , -0.5801134 ,\n        -0.98141533,  0.9653885 ,  0.45800048,  0.7980325 , -0.64700323,\n        -0.8201824 , -0.93907714,  0.913504  ,  0.25967872,  0.98954767,\n        -0.5566895 , -0.9532733 , -0.70965606, -0.9170585 ,  0.01740894,\n        -0.36599267, -0.7574158 , -0.04359301, -0.9516391 ,  0.61198246,\n         0.50268203,  0.6215342 , -0.9320846 ,  0.999249  ,  1.        ,\n         0.9675655 ,  0.9039242 ,  0.9104048 , -0.9999893 , -0.7962011 ,\n         0.9999986 , -0.9961443 , -1.        , -0.90231127, -0.83820176,\n         0.43356273, -1.        , -0.24099913, -0.10651845, -0.8912232 ,\n         0.8438774 ,  0.9641288 ,  0.99360406, -1.        ,  0.8577424 ,\n         0.9369264 , -0.7247431 ,  0.9750012 , -0.6409196 ,  0.9621188 ,\n         0.77444524,  0.6851874 , -0.4458138 ,  0.5471773 , -0.98650426,\n        -0.91155165, -0.8251803 , -0.8448793 ,  0.999722  ,  0.36024323,\n        -0.8323937 , -0.9147936 ,  0.5670719 , -0.36608765,  0.35693097,\n        -0.95293206, -0.45952007,  0.7933692 ,  0.8471993 ,  0.30356878,\n         0.44515765, -0.68270075,  0.5386119 ,  0.44848117,  0.5273168 ,\n         0.75258315, -0.9604217 , -0.67193824, -0.37205312, -0.0272681 ,\n        -0.89499456, -0.9507169 ,  0.94866925, -0.590116  ,  0.9337815 ,\n         1.        ,  0.6266286 , -0.8999635 ,  0.78797597,  0.5004618 ,\n        -0.7849318 ,  1.        ,  0.8897122 , -0.9692726 , -0.66541666,\n         0.80974215, -0.7526998 , -0.8060494 ,  0.99971265, -0.47070152,\n        -0.8715129 , -0.7294754 ,  0.9747835 , -0.9851237 ,  0.9989746 ,\n        -0.88535005, -0.9585484 ,  0.95370287,  0.9197582 , -0.7504621 ,\n        -0.8222966 ,  0.20503198, -0.9260313 ,  0.581578  , -0.9371074 ,\n         0.7821661 ,  0.4271761 , -0.21570136,  0.87079453, -0.88503724,\n        -0.63124347,  0.45549804, -0.6892762 , -0.48154774,  0.9767401 ,\n         0.6835044 , -0.47579083,  0.00437325, -0.48690882, -0.7459394 ,\n        -0.9568377 ,  0.71604615,  1.        , -0.68395126,  0.9255501 ,\n        -0.68779886, -0.1369417 ,  0.17789097,  0.6331625 ,  0.7018037 ,\n        -0.5019694 , -0.9149497 ,  0.9065604 , -0.9730503 , -0.9833786 ,\n         0.84737515,  0.48032176, -0.43488702,  0.9999997 ,  0.7273029 ,\n         0.4027672 ,  0.52764046,  0.99265707,  0.10565483,  0.5935755 ,\n         0.9561993 ,  0.9735848 , -0.38234738,  0.6931031 ,  0.86925584,\n        -0.96194226, -0.47922406, -0.73711145,  0.24169756, -0.91730124,\n        -0.02877087, -0.9574095 ,  0.957845  ,  0.94672483,  0.44315958,\n         0.42797938,  0.8322353 ,  1.        , -0.8666016 ,  0.747595  ,\n        -0.45326668,  0.88801867, -0.9999736 , -0.7423627 , -0.5541656 ,\n        -0.2144848 , -0.9329529 , -0.5291726 ,  0.44253185, -0.96542096,\n         0.9110459 ,  0.82871765, -0.99151963, -0.9850917 , -0.6425614 ,\n         0.8826246 ,  0.2371645 , -0.9965762 , -0.78945506, -0.5636039 ,\n         0.84607196, -0.5292434 , -0.9333138 , -0.3816632 , -0.36206082,\n         0.5940835 , -0.3539594 ,  0.647987  ,  0.9476617 ,  0.13219313,\n        -0.86229414, -0.592922  , -0.2538446 , -0.85703725,  0.82880056,\n        -0.87309015, -0.97347295, -0.27391693,  1.        , -0.5384467 ,\n         0.97518355,  0.7104372 ,  0.7305582 , -0.40239546,  0.42462057,\n         0.9858864 ,  0.45565677, -0.94051313, -0.922559  , -0.70331156,\n        -0.53546464,  0.7239635 ,  0.78038126,  0.92230606,  0.795903  ,\n         0.9154469 ,  0.3810714 , -0.11951816, -0.00857585,  0.99981534,\n        -0.33326975, -0.41879493, -0.61880416, -0.32270092, -0.5077164 ,\n        -0.41359082,  1.        ,  0.42320076,  0.7751473 , -0.9888471 ,\n        -0.95726746, -0.9385438 ,  1.        ,  0.83319825, -0.7758778 ,\n         0.72743213,  0.74796563, -0.28145376,  0.8092097 , -0.4135229 ,\n        -0.42515796,  0.44390687,  0.3698387 ,  0.9336076 , -0.7298247 ,\n        -0.9624625 , -0.7381537 ,  0.63461584, -0.949857  ,  0.99999505,\n        -0.6989221 , -0.47358617, -0.5916806 , -0.6132036 ,  0.5231513 ,\n         0.17620474, -0.9661775 , -0.27000457,  0.45171028,  0.9544661 ,\n         0.43984938, -0.669831  , -0.84764594,  0.8817742 ,  0.86336243,\n        -0.96262866, -0.92975646,  0.96546364, -0.96582496,  0.77403396,\n         1.        ,  0.4860013 ,  0.52452147,  0.3881218 , -0.6019646 ,\n         0.5276403 , -0.74206555,  0.6732591 , -0.93985003, -0.60053873,\n        -0.43128625,  0.46131364, -0.2969523 , -0.5673991 ,  0.76021814,\n         0.353958  , -0.6201783 , -0.7373711 , -0.25937712,  0.6222336 ,\n         0.89627683, -0.38275453, -0.38254213,  0.18759724, -0.16409937,\n        -0.9444308 , -0.51745796, -0.50808114, -0.99999964,  0.69637233,\n        -1.        ,  0.6919182 ,  0.58969665, -0.29271618,  0.80412227,\n         0.72393495,  0.72745365, -0.72388107, -0.91662437,  0.20539165,\n         0.7492374 , -0.4319516 , -0.6755426 , -0.6922798 ,  0.57110566,\n        -0.3030211 ,  0.5561981 , -0.6227033 ,  0.7413434 , -0.4300058 ,\n         1.        ,  0.321524  , -0.6945401 , -0.9824701 ,  0.41057986,\n        -0.39096582,  1.        , -0.84381145, -0.94344586,  0.62998295,\n        -0.786891  , -0.84682786,  0.51925963,  0.09948262, -0.8636226 ,\n        -0.9853048 ,  0.9200393 ,  0.89540964, -0.6709639 ,  0.72050613,\n        -0.52176434, -0.72193   ,  0.16774724,  0.9575436 ,  0.9819652 ,\n         0.7525366 ,  0.8996107 , -0.46107706, -0.50837314,  0.9408587 ,\n         0.44380015,  0.5663561 ,  0.34326023,  1.        ,  0.4799578 ,\n        -0.9193175 , -0.27612674, -0.96933854, -0.3508845 , -0.9326207 ,\n         0.43494943,  0.54846996,  0.8882947 , -0.42016515,  0.94435555,\n        -0.94340813,  0.20277038, -0.761988  , -0.73120475,  0.53188765,\n        -0.9062258 , -0.97670984, -0.97131807,  0.77316767, -0.58367586,\n        -0.13014527,  0.35025346,  0.15760337,  0.6145716 ,  0.64949393,\n        -1.        ,  0.9349    ,  0.6591097 ,  0.978076  ,  0.96496093,\n         0.86755013,  0.69863516,  0.44448078, -0.9731685 , -0.9882922 ,\n        -0.56032264, -0.38211435,  0.82244164,  0.8334425 ,  0.8846517 ,\n         0.6525943 , -0.5635626 , -0.7116828 , -0.7714851 , -0.8909407 ,\n        -0.9908903 ,  0.6631106 , -0.68653065, -0.9536398 ,  0.95214707,\n         0.3108835 , -0.24214129, -0.5349393 , -0.9052543 ,  0.94605595,\n         0.8881264 ,  0.4706442 ,  0.31537157,  0.5337231 ,  0.8911418 ,\n         0.9646034 ,  0.97304386, -0.9499581 ,  0.82648075, -0.7555921 ,\n         0.6991746 ,  0.8451113 , -0.9462329 ,  0.29078537,  0.6149882 ,\n        -0.712614  ,  0.34395874, -0.4669969 , -0.9648281 ,  0.6572829 ,\n        -0.43743625,  0.69759923, -0.6677827 , -0.15992928, -0.6106588 ,\n        -0.34651932, -0.77324575, -0.85293925,  0.72469485,  0.38903147,\n         0.89484847,  0.9641548 , -0.28898314, -0.81696904, -0.36290726,\n        -0.9298126 , -0.89870846,  0.93454635, -0.28517777, -0.78007495,\n         0.8414999 ,  0.2379998 ,  0.9355849 ,  0.72789913, -0.5613618 ,\n        -0.46276715, -0.7525883 ,  0.88112664, -0.5693292 , -0.76189935,\n        -0.782409  ,  0.87251306,  0.48770443,  0.9999994 , -0.92958975,\n        -0.97373897, -0.4876228 , -0.5903783 ,  0.51221806, -0.7007313 ,\n        -1.        ,  0.52230495, -0.6350289 ,  0.87670684, -0.8873739 ,\n         0.9213105 , -0.78300977, -0.98276687, -0.5547727 ,  0.6658604 ,\n         0.8611189 , -0.6247756 , -0.84166104,  0.6334383 , -0.44177514,\n         0.9924273 ,  0.8903529 ,  0.1327076 , -0.36620933,  0.7152788 ,\n        -0.82665986, -0.7961416 ,  0.9146935 ]], dtype=float32)>, past_key_values=None, hidden_states=None, attentions=None, cross_attentions=None)"
          },
          "metadata": {}
        }
      ]
    },
    {
      "cell_type": "code",
      "source": [
        "from transformers import pipeline"
      ],
      "metadata": {
        "execution": {
          "iopub.status.busy": "2024-02-14T15:52:38.422514Z",
          "iopub.execute_input": "2024-02-14T15:52:38.422929Z",
          "iopub.status.idle": "2024-02-14T15:52:41.963904Z",
          "shell.execute_reply.started": "2024-02-14T15:52:38.422899Z",
          "shell.execute_reply": "2024-02-14T15:52:41.962562Z"
        },
        "trusted": true,
        "id": "pqFep7UGlsel"
      },
      "execution_count": null,
      "outputs": []
    },
    {
      "cell_type": "code",
      "source": [
        "unmasker=pipeline(\"fill-mask\",model='bert-base-uncased')\n",
        "unmasker(\"The man worked as a [MASK].\")"
      ],
      "metadata": {
        "execution": {
          "iopub.status.busy": "2024-02-14T15:53:50.317596Z",
          "iopub.execute_input": "2024-02-14T15:53:50.318043Z",
          "iopub.status.idle": "2024-02-14T15:53:51.544736Z",
          "shell.execute_reply.started": "2024-02-14T15:53:50.31801Z",
          "shell.execute_reply": "2024-02-14T15:53:51.543562Z"
        },
        "trusted": true,
        "id": "BDIubWIrlsem",
        "outputId": "7cf8b4e2-c109-4de5-c564-5a4ae0961aa4"
      },
      "execution_count": null,
      "outputs": [
        {
          "name": "stderr",
          "text": "Some weights of the model checkpoint at bert-base-uncased were not used when initializing BertForMaskedLM: ['bert.pooler.dense.bias', 'bert.pooler.dense.weight', 'cls.seq_relationship.bias', 'cls.seq_relationship.weight']\n- This IS expected if you are initializing BertForMaskedLM from the checkpoint of a model trained on another task or with another architecture (e.g. initializing a BertForSequenceClassification model from a BertForPreTraining model).\n- This IS NOT expected if you are initializing BertForMaskedLM from the checkpoint of a model that you expect to be exactly identical (initializing a BertForSequenceClassification model from a BertForSequenceClassification model).\n",
          "output_type": "stream"
        },
        {
          "execution_count": 17,
          "output_type": "execute_result",
          "data": {
            "text/plain": "[{'score': 0.09747542440891266,\n  'token': 10533,\n  'token_str': 'carpenter',\n  'sequence': 'the man worked as a carpenter.'},\n {'score': 0.052383340895175934,\n  'token': 15610,\n  'token_str': 'waiter',\n  'sequence': 'the man worked as a waiter.'},\n {'score': 0.04962710663676262,\n  'token': 13362,\n  'token_str': 'barber',\n  'sequence': 'the man worked as a barber.'},\n {'score': 0.03788613900542259,\n  'token': 15893,\n  'token_str': 'mechanic',\n  'sequence': 'the man worked as a mechanic.'},\n {'score': 0.03768082335591316,\n  'token': 18968,\n  'token_str': 'salesman',\n  'sequence': 'the man worked as a salesman.'}]"
          },
          "metadata": {}
        }
      ]
    },
    {
      "cell_type": "code",
      "source": [
        "from datasets import load_dataset\n",
        "cola=load_dataset('glue','cola')\n",
        "cola['train'][25:28]"
      ],
      "metadata": {
        "execution": {
          "iopub.status.busy": "2024-02-14T16:23:02.23957Z",
          "iopub.execute_input": "2024-02-14T16:23:02.240217Z",
          "iopub.status.idle": "2024-02-14T16:23:06.49275Z",
          "shell.execute_reply.started": "2024-02-14T16:23:02.240174Z",
          "shell.execute_reply": "2024-02-14T16:23:06.491468Z"
        },
        "trusted": true,
        "id": "5thAoSVglsen",
        "outputId": "f918edb3-bdeb-4d26-e371-fe11cfaa9dd6",
        "colab": {
          "referenced_widgets": [
            "58577ba1f6ca47359cf8fdedb0b32eb0",
            "7c902cba659348f9b5a5b5f5a8846f2a",
            "5d66793e43194190a272e2f7ba3e3c4b",
            "",
            "f19090c8d5cd4201af3ed2217cbe51eb"
          ]
        }
      },
      "execution_count": null,
      "outputs": [
        {
          "output_type": "display_data",
          "data": {
            "text/plain": "Downloading builder script:   0%|          | 0.00/7.78k [00:00<?, ?B/s]",
            "application/vnd.jupyter.widget-view+json": {
              "version_major": 2,
              "version_minor": 0,
              "model_id": "58577ba1f6ca47359cf8fdedb0b32eb0"
            }
          },
          "metadata": {}
        },
        {
          "output_type": "display_data",
          "data": {
            "text/plain": "Downloading metadata:   0%|          | 0.00/4.47k [00:00<?, ?B/s]",
            "application/vnd.jupyter.widget-view+json": {
              "version_major": 2,
              "version_minor": 0,
              "model_id": "7c902cba659348f9b5a5b5f5a8846f2a"
            }
          },
          "metadata": {}
        },
        {
          "name": "stdout",
          "text": "Downloading and preparing dataset glue/cola (download: 368.14 KiB, generated: 596.73 KiB, post-processed: Unknown size, total: 964.86 KiB) to /root/.cache/huggingface/datasets/glue/cola/1.0.0/dacbe3125aa31d7f70367a07a8a9e72a5a0bfeb5fc42e75c9db75b96da6053ad...\n",
          "output_type": "stream"
        },
        {
          "output_type": "display_data",
          "data": {
            "text/plain": "Downloading data:   0%|          | 0.00/377k [00:00<?, ?B/s]",
            "application/vnd.jupyter.widget-view+json": {
              "version_major": 2,
              "version_minor": 0,
              "model_id": "5d66793e43194190a272e2f7ba3e3c4b"
            }
          },
          "metadata": {}
        },
        {
          "output_type": "display_data",
          "data": {
            "text/plain": "Generating train split:   0%|          | 0/8551 [00:00<?, ? examples/s]",
            "application/vnd.jupyter.widget-view+json": {
              "version_major": 2,
              "version_minor": 0,
              "model_id": ""
            }
          },
          "metadata": {}
        },
        {
          "output_type": "display_data",
          "data": {
            "text/plain": "Generating validation split:   0%|          | 0/1043 [00:00<?, ? examples/s]",
            "application/vnd.jupyter.widget-view+json": {
              "version_major": 2,
              "version_minor": 0,
              "model_id": ""
            }
          },
          "metadata": {}
        },
        {
          "output_type": "display_data",
          "data": {
            "text/plain": "Generating test split:   0%|          | 0/1063 [00:00<?, ? examples/s]",
            "application/vnd.jupyter.widget-view+json": {
              "version_major": 2,
              "version_minor": 0,
              "model_id": ""
            }
          },
          "metadata": {}
        },
        {
          "name": "stdout",
          "text": "Dataset glue downloaded and prepared to /root/.cache/huggingface/datasets/glue/cola/1.0.0/dacbe3125aa31d7f70367a07a8a9e72a5a0bfeb5fc42e75c9db75b96da6053ad. Subsequent calls will reuse this data.\n",
          "output_type": "stream"
        },
        {
          "output_type": "display_data",
          "data": {
            "text/plain": "  0%|          | 0/3 [00:00<?, ?it/s]",
            "application/vnd.jupyter.widget-view+json": {
              "version_major": 2,
              "version_minor": 0,
              "model_id": "f19090c8d5cd4201af3ed2217cbe51eb"
            }
          },
          "metadata": {}
        },
        {
          "execution_count": 19,
          "output_type": "execute_result",
          "data": {
            "text/plain": "{'sentence': ['Harry coughed himself.',\n  'Harry coughed us into a fit.',\n  'Bill followed the road into the forest.'],\n 'label': [0, 0, 1],\n 'idx': [25, 26, 27]}"
          },
          "metadata": {}
        }
      ]
    },
    {
      "cell_type": "code",
      "source": [
        "type(cola)"
      ],
      "metadata": {
        "execution": {
          "iopub.status.busy": "2024-02-14T16:23:15.949061Z",
          "iopub.execute_input": "2024-02-14T16:23:15.949457Z",
          "iopub.status.idle": "2024-02-14T16:23:15.956502Z",
          "shell.execute_reply.started": "2024-02-14T16:23:15.949427Z",
          "shell.execute_reply": "2024-02-14T16:23:15.955514Z"
        },
        "trusted": true,
        "id": "jNU_JK6tlsen",
        "outputId": "7a0ed89e-b41b-4d17-ba4d-b3be5b942965"
      },
      "execution_count": null,
      "outputs": [
        {
          "execution_count": 20,
          "output_type": "execute_result",
          "data": {
            "text/plain": "datasets.dataset_dict.DatasetDict"
          },
          "metadata": {}
        }
      ]
    },
    {
      "cell_type": "code",
      "source": [
        "cola"
      ],
      "metadata": {
        "execution": {
          "iopub.status.busy": "2024-02-14T16:23:18.323192Z",
          "iopub.execute_input": "2024-02-14T16:23:18.323573Z",
          "iopub.status.idle": "2024-02-14T16:23:18.330128Z",
          "shell.execute_reply.started": "2024-02-14T16:23:18.323545Z",
          "shell.execute_reply": "2024-02-14T16:23:18.329171Z"
        },
        "trusted": true,
        "id": "pDzHG1OFlsen",
        "outputId": "e9ed03b1-d469-4804-d290-f215b3f8608e"
      },
      "execution_count": null,
      "outputs": [
        {
          "execution_count": 21,
          "output_type": "execute_result",
          "data": {
            "text/plain": "DatasetDict({\n    train: Dataset({\n        features: ['sentence', 'label', 'idx'],\n        num_rows: 8551\n    })\n    validation: Dataset({\n        features: ['sentence', 'label', 'idx'],\n        num_rows: 1043\n    })\n    test: Dataset({\n        features: ['sentence', 'label', 'idx'],\n        num_rows: 1063\n    })\n})"
          },
          "metadata": {}
        }
      ]
    },
    {
      "cell_type": "code",
      "source": [
        "mrpc=load_dataset('glue','mrpc')"
      ],
      "metadata": {
        "execution": {
          "iopub.status.busy": "2024-02-14T16:25:19.39811Z",
          "iopub.execute_input": "2024-02-14T16:25:19.398552Z",
          "iopub.status.idle": "2024-02-14T16:25:24.245173Z",
          "shell.execute_reply.started": "2024-02-14T16:25:19.398519Z",
          "shell.execute_reply": "2024-02-14T16:25:24.243888Z"
        },
        "trusted": true,
        "id": "DFf5edQ0lseo",
        "outputId": "34597fdc-3b35-47ed-adaa-2b39919f9792",
        "colab": {
          "referenced_widgets": [
            "b4928bb0c4b646beae6a4fa17751fc2d",
            "6093885aedce4f13b3ef45337ddde4bf",
            "2aa088ec6b314696852c1a8bde332624",
            "9f5653349d964e10825dfe0536b60d60",
            "",
            "2ab7c5845d68451ab3ae8bea615ee132"
          ]
        }
      },
      "execution_count": null,
      "outputs": [
        {
          "name": "stdout",
          "text": "Downloading and preparing dataset glue/mrpc (download: 1.43 MiB, generated: 1.43 MiB, post-processed: Unknown size, total: 2.85 MiB) to /root/.cache/huggingface/datasets/glue/mrpc/1.0.0/dacbe3125aa31d7f70367a07a8a9e72a5a0bfeb5fc42e75c9db75b96da6053ad...\n",
          "output_type": "stream"
        },
        {
          "output_type": "display_data",
          "data": {
            "text/plain": "Downloading data files:   0%|          | 0/3 [00:00<?, ?it/s]",
            "application/vnd.jupyter.widget-view+json": {
              "version_major": 2,
              "version_minor": 0,
              "model_id": "b4928bb0c4b646beae6a4fa17751fc2d"
            }
          },
          "metadata": {}
        },
        {
          "output_type": "display_data",
          "data": {
            "text/plain": "Downloading data: 0.00B [00:00, ?B/s]",
            "application/vnd.jupyter.widget-view+json": {
              "version_major": 2,
              "version_minor": 0,
              "model_id": "6093885aedce4f13b3ef45337ddde4bf"
            }
          },
          "metadata": {}
        },
        {
          "output_type": "display_data",
          "data": {
            "text/plain": "Downloading data: 0.00B [00:00, ?B/s]",
            "application/vnd.jupyter.widget-view+json": {
              "version_major": 2,
              "version_minor": 0,
              "model_id": "2aa088ec6b314696852c1a8bde332624"
            }
          },
          "metadata": {}
        },
        {
          "output_type": "display_data",
          "data": {
            "text/plain": "Downloading data: 0.00B [00:00, ?B/s]",
            "application/vnd.jupyter.widget-view+json": {
              "version_major": 2,
              "version_minor": 0,
              "model_id": "9f5653349d964e10825dfe0536b60d60"
            }
          },
          "metadata": {}
        },
        {
          "output_type": "display_data",
          "data": {
            "text/plain": "Generating train split:   0%|          | 0/3668 [00:00<?, ? examples/s]",
            "application/vnd.jupyter.widget-view+json": {
              "version_major": 2,
              "version_minor": 0,
              "model_id": ""
            }
          },
          "metadata": {}
        },
        {
          "output_type": "display_data",
          "data": {
            "text/plain": "Generating validation split:   0%|          | 0/408 [00:00<?, ? examples/s]",
            "application/vnd.jupyter.widget-view+json": {
              "version_major": 2,
              "version_minor": 0,
              "model_id": ""
            }
          },
          "metadata": {}
        },
        {
          "output_type": "display_data",
          "data": {
            "text/plain": "Generating test split:   0%|          | 0/1725 [00:00<?, ? examples/s]",
            "application/vnd.jupyter.widget-view+json": {
              "version_major": 2,
              "version_minor": 0,
              "model_id": ""
            }
          },
          "metadata": {}
        },
        {
          "name": "stdout",
          "text": "Dataset glue downloaded and prepared to /root/.cache/huggingface/datasets/glue/mrpc/1.0.0/dacbe3125aa31d7f70367a07a8a9e72a5a0bfeb5fc42e75c9db75b96da6053ad. Subsequent calls will reuse this data.\n",
          "output_type": "stream"
        },
        {
          "output_type": "display_data",
          "data": {
            "text/plain": "  0%|          | 0/3 [00:00<?, ?it/s]",
            "application/vnd.jupyter.widget-view+json": {
              "version_major": 2,
              "version_minor": 0,
              "model_id": "2ab7c5845d68451ab3ae8bea615ee132"
            }
          },
          "metadata": {}
        }
      ]
    },
    {
      "cell_type": "code",
      "source": [
        "mrpc['train'][25:28]"
      ],
      "metadata": {
        "execution": {
          "iopub.status.busy": "2024-02-14T16:25:54.924485Z",
          "iopub.execute_input": "2024-02-14T16:25:54.925944Z",
          "iopub.status.idle": "2024-02-14T16:25:54.934882Z",
          "shell.execute_reply.started": "2024-02-14T16:25:54.925894Z",
          "shell.execute_reply": "2024-02-14T16:25:54.933477Z"
        },
        "trusted": true,
        "id": "jkY32gghlseo",
        "outputId": "d8aaf27b-0199-4d9e-a267-75880d469281"
      },
      "execution_count": null,
      "outputs": [
        {
          "execution_count": 25,
          "output_type": "execute_result",
          "data": {
            "text/plain": "{'sentence1': ['I wanted to bring the most beautiful people into the most beautiful building , he said Sunday inside the Grand Central concourse .',\n  \"The broad Standard & Poor 's 500 < .SPX > fell 10.75 points , or 1.02 percent , to 1,039.32 .\",\n  \"Duque will return to Earth Oct. 27 with the station 's current crew , U.S. astronaut Ed Lu and Russian cosmonaut Yuri Malenchenko .\"],\n 'sentence2': ['\" I wanted to bring the most beautiful people into the most beautiful building , \" Tunick said Sunday .',\n  'The S & P 500 index was up 1.26 , or 0.1 percent , to 1,039.32 after sinking 10.75 yesterday .',\n  'Currently living onboard the space station are American astronaut Ed Lu and Russian cosmonaut Yuri Malenchenko .'],\n 'label': [1, 0, 0],\n 'idx': [28, 29, 30]}"
          },
          "metadata": {}
        }
      ]
    },
    {
      "cell_type": "code",
      "source": [
        "data3 = load_dataset('csv', data_files={'train':['/kaggle/input/chocolate-ratings/chocolate.csv']}, delimiter=\"\\t\")"
      ],
      "metadata": {
        "execution": {
          "iopub.status.busy": "2024-02-14T16:35:44.131126Z",
          "iopub.execute_input": "2024-02-14T16:35:44.132918Z",
          "iopub.status.idle": "2024-02-14T16:35:45.158792Z",
          "shell.execute_reply.started": "2024-02-14T16:35:44.132876Z",
          "shell.execute_reply": "2024-02-14T16:35:45.156975Z"
        },
        "trusted": true,
        "id": "svUxZJxKlseo",
        "outputId": "606c6d49-79a3-42e4-dcb0-24e9d9b58d88",
        "colab": {
          "referenced_widgets": [
            "882d6c3e4fef4fb6af70059f89d3ef6e",
            "c81a8873a34740c08d3cabe6ef83140a"
          ]
        }
      },
      "execution_count": null,
      "outputs": [
        {
          "name": "stdout",
          "text": "Downloading and preparing dataset csv/default to /root/.cache/huggingface/datasets/csv/default-d5d253428a6d9bad/0.0.0/433e0ccc46f9880962cc2b12065189766fbb2bee57a221866138fb9203c83519...\n",
          "output_type": "stream"
        },
        {
          "output_type": "display_data",
          "data": {
            "text/plain": "Downloading data files:   0%|          | 0/1 [00:00<?, ?it/s]",
            "application/vnd.jupyter.widget-view+json": {
              "version_major": 2,
              "version_minor": 0,
              "model_id": "882d6c3e4fef4fb6af70059f89d3ef6e"
            }
          },
          "metadata": {}
        },
        {
          "output_type": "display_data",
          "data": {
            "text/plain": "Extracting data files:   0%|          | 0/1 [00:00<?, ?it/s]",
            "application/vnd.jupyter.widget-view+json": {
              "version_major": 2,
              "version_minor": 0,
              "model_id": "c81a8873a34740c08d3cabe6ef83140a"
            }
          },
          "metadata": {}
        },
        {
          "traceback": [
            "\u001b[0;31m---------------------------------------------------------------------------\u001b[0m",
            "\u001b[0;31mTypeError\u001b[0m                                 Traceback (most recent call last)",
            "Cell \u001b[0;32mIn[34], line 1\u001b[0m\n\u001b[0;32m----> 1\u001b[0m data3 \u001b[38;5;241m=\u001b[39m \u001b[43mload_dataset\u001b[49m\u001b[43m(\u001b[49m\u001b[38;5;124;43m'\u001b[39;49m\u001b[38;5;124;43mcsv\u001b[39;49m\u001b[38;5;124;43m'\u001b[39;49m\u001b[43m,\u001b[49m\u001b[43m \u001b[49m\u001b[43mdata_files\u001b[49m\u001b[38;5;241;43m=\u001b[39;49m\u001b[43m{\u001b[49m\u001b[38;5;124;43m'\u001b[39;49m\u001b[38;5;124;43mtrain\u001b[39;49m\u001b[38;5;124;43m'\u001b[39;49m\u001b[43m:\u001b[49m\u001b[43m[\u001b[49m\u001b[38;5;124;43m'\u001b[39;49m\u001b[38;5;124;43m/kaggle/input/chocolate-ratings/chocolate.csv\u001b[39;49m\u001b[38;5;124;43m'\u001b[39;49m\u001b[43m]\u001b[49m\u001b[43m}\u001b[49m\u001b[43m,\u001b[49m\u001b[43m \u001b[49m\u001b[43mdelimiter\u001b[49m\u001b[38;5;241;43m=\u001b[39;49m\u001b[38;5;124;43m\"\u001b[39;49m\u001b[38;5;130;43;01m\\t\u001b[39;49;00m\u001b[38;5;124;43m\"\u001b[39;49m\u001b[43m)\u001b[49m\n",
            "File \u001b[0;32m/opt/conda/lib/python3.10/site-packages/datasets/load.py:1691\u001b[0m, in \u001b[0;36mload_dataset\u001b[0;34m(path, name, data_dir, data_files, split, cache_dir, features, download_config, download_mode, ignore_verifications, keep_in_memory, save_infos, revision, use_auth_token, task, streaming, **config_kwargs)\u001b[0m\n\u001b[1;32m   1688\u001b[0m try_from_hf_gcs \u001b[38;5;241m=\u001b[39m path \u001b[38;5;129;01mnot\u001b[39;00m \u001b[38;5;129;01min\u001b[39;00m _PACKAGED_DATASETS_MODULES\n\u001b[1;32m   1690\u001b[0m \u001b[38;5;66;03m# Download and prepare data\u001b[39;00m\n\u001b[0;32m-> 1691\u001b[0m \u001b[43mbuilder_instance\u001b[49m\u001b[38;5;241;43m.\u001b[39;49m\u001b[43mdownload_and_prepare\u001b[49m\u001b[43m(\u001b[49m\n\u001b[1;32m   1692\u001b[0m \u001b[43m    \u001b[49m\u001b[43mdownload_config\u001b[49m\u001b[38;5;241;43m=\u001b[39;49m\u001b[43mdownload_config\u001b[49m\u001b[43m,\u001b[49m\n\u001b[1;32m   1693\u001b[0m \u001b[43m    \u001b[49m\u001b[43mdownload_mode\u001b[49m\u001b[38;5;241;43m=\u001b[39;49m\u001b[43mdownload_mode\u001b[49m\u001b[43m,\u001b[49m\n\u001b[1;32m   1694\u001b[0m \u001b[43m    \u001b[49m\u001b[43mignore_verifications\u001b[49m\u001b[38;5;241;43m=\u001b[39;49m\u001b[43mignore_verifications\u001b[49m\u001b[43m,\u001b[49m\n\u001b[1;32m   1695\u001b[0m \u001b[43m    \u001b[49m\u001b[43mtry_from_hf_gcs\u001b[49m\u001b[38;5;241;43m=\u001b[39;49m\u001b[43mtry_from_hf_gcs\u001b[49m\u001b[43m,\u001b[49m\n\u001b[1;32m   1696\u001b[0m \u001b[43m    \u001b[49m\u001b[43muse_auth_token\u001b[49m\u001b[38;5;241;43m=\u001b[39;49m\u001b[43muse_auth_token\u001b[49m\u001b[43m,\u001b[49m\n\u001b[1;32m   1697\u001b[0m \u001b[43m\u001b[49m\u001b[43m)\u001b[49m\n\u001b[1;32m   1699\u001b[0m \u001b[38;5;66;03m# Build dataset for splits\u001b[39;00m\n\u001b[1;32m   1700\u001b[0m keep_in_memory \u001b[38;5;241m=\u001b[39m (\n\u001b[1;32m   1701\u001b[0m     keep_in_memory \u001b[38;5;28;01mif\u001b[39;00m keep_in_memory \u001b[38;5;129;01mis\u001b[39;00m \u001b[38;5;129;01mnot\u001b[39;00m \u001b[38;5;28;01mNone\u001b[39;00m \u001b[38;5;28;01melse\u001b[39;00m is_small_dataset(builder_instance\u001b[38;5;241m.\u001b[39minfo\u001b[38;5;241m.\u001b[39mdataset_size)\n\u001b[1;32m   1702\u001b[0m )\n",
            "File \u001b[0;32m/opt/conda/lib/python3.10/site-packages/datasets/builder.py:605\u001b[0m, in \u001b[0;36mDatasetBuilder.download_and_prepare\u001b[0;34m(self, download_config, download_mode, ignore_verifications, try_from_hf_gcs, dl_manager, base_path, use_auth_token, **download_and_prepare_kwargs)\u001b[0m\n\u001b[1;32m    603\u001b[0m         logger\u001b[38;5;241m.\u001b[39mwarning(\u001b[38;5;124m\"\u001b[39m\u001b[38;5;124mHF google storage unreachable. Downloading and preparing it from source\u001b[39m\u001b[38;5;124m\"\u001b[39m)\n\u001b[1;32m    604\u001b[0m \u001b[38;5;28;01mif\u001b[39;00m \u001b[38;5;129;01mnot\u001b[39;00m downloaded_from_gcs:\n\u001b[0;32m--> 605\u001b[0m     \u001b[38;5;28;43mself\u001b[39;49m\u001b[38;5;241;43m.\u001b[39;49m\u001b[43m_download_and_prepare\u001b[49m\u001b[43m(\u001b[49m\n\u001b[1;32m    606\u001b[0m \u001b[43m        \u001b[49m\u001b[43mdl_manager\u001b[49m\u001b[38;5;241;43m=\u001b[39;49m\u001b[43mdl_manager\u001b[49m\u001b[43m,\u001b[49m\u001b[43m \u001b[49m\u001b[43mverify_infos\u001b[49m\u001b[38;5;241;43m=\u001b[39;49m\u001b[43mverify_infos\u001b[49m\u001b[43m,\u001b[49m\u001b[43m \u001b[49m\u001b[38;5;241;43m*\u001b[39;49m\u001b[38;5;241;43m*\u001b[39;49m\u001b[43mdownload_and_prepare_kwargs\u001b[49m\n\u001b[1;32m    607\u001b[0m \u001b[43m    \u001b[49m\u001b[43m)\u001b[49m\n\u001b[1;32m    608\u001b[0m \u001b[38;5;66;03m# Sync info\u001b[39;00m\n\u001b[1;32m    609\u001b[0m \u001b[38;5;28mself\u001b[39m\u001b[38;5;241m.\u001b[39minfo\u001b[38;5;241m.\u001b[39mdataset_size \u001b[38;5;241m=\u001b[39m \u001b[38;5;28msum\u001b[39m(split\u001b[38;5;241m.\u001b[39mnum_bytes \u001b[38;5;28;01mfor\u001b[39;00m split \u001b[38;5;129;01min\u001b[39;00m \u001b[38;5;28mself\u001b[39m\u001b[38;5;241m.\u001b[39minfo\u001b[38;5;241m.\u001b[39msplits\u001b[38;5;241m.\u001b[39mvalues())\n",
            "File \u001b[0;32m/opt/conda/lib/python3.10/site-packages/datasets/builder.py:694\u001b[0m, in \u001b[0;36mDatasetBuilder._download_and_prepare\u001b[0;34m(self, dl_manager, verify_infos, **prepare_split_kwargs)\u001b[0m\n\u001b[1;32m    690\u001b[0m split_dict\u001b[38;5;241m.\u001b[39madd(split_generator\u001b[38;5;241m.\u001b[39msplit_info)\n\u001b[1;32m    692\u001b[0m \u001b[38;5;28;01mtry\u001b[39;00m:\n\u001b[1;32m    693\u001b[0m     \u001b[38;5;66;03m# Prepare split will record examples associated to the split\u001b[39;00m\n\u001b[0;32m--> 694\u001b[0m     \u001b[38;5;28;43mself\u001b[39;49m\u001b[38;5;241;43m.\u001b[39;49m\u001b[43m_prepare_split\u001b[49m\u001b[43m(\u001b[49m\u001b[43msplit_generator\u001b[49m\u001b[43m,\u001b[49m\u001b[43m \u001b[49m\u001b[38;5;241;43m*\u001b[39;49m\u001b[38;5;241;43m*\u001b[39;49m\u001b[43mprepare_split_kwargs\u001b[49m\u001b[43m)\u001b[49m\n\u001b[1;32m    695\u001b[0m \u001b[38;5;28;01mexcept\u001b[39;00m \u001b[38;5;167;01mOSError\u001b[39;00m \u001b[38;5;28;01mas\u001b[39;00m e:\n\u001b[1;32m    696\u001b[0m     \u001b[38;5;28;01mraise\u001b[39;00m \u001b[38;5;167;01mOSError\u001b[39;00m(\n\u001b[1;32m    697\u001b[0m         \u001b[38;5;124m\"\u001b[39m\u001b[38;5;124mCannot find data file. \u001b[39m\u001b[38;5;124m\"\u001b[39m\n\u001b[1;32m    698\u001b[0m         \u001b[38;5;241m+\u001b[39m (\u001b[38;5;28mself\u001b[39m\u001b[38;5;241m.\u001b[39mmanual_download_instructions \u001b[38;5;129;01mor\u001b[39;00m \u001b[38;5;124m\"\u001b[39m\u001b[38;5;124m\"\u001b[39m)\n\u001b[1;32m    699\u001b[0m         \u001b[38;5;241m+\u001b[39m \u001b[38;5;124m\"\u001b[39m\u001b[38;5;130;01m\\n\u001b[39;00m\u001b[38;5;124mOriginal error:\u001b[39m\u001b[38;5;130;01m\\n\u001b[39;00m\u001b[38;5;124m\"\u001b[39m\n\u001b[1;32m    700\u001b[0m         \u001b[38;5;241m+\u001b[39m \u001b[38;5;28mstr\u001b[39m(e)\n\u001b[1;32m    701\u001b[0m     ) \u001b[38;5;28;01mfrom\u001b[39;00m \u001b[38;5;28;01mNone\u001b[39;00m\n",
            "File \u001b[0;32m/opt/conda/lib/python3.10/site-packages/datasets/builder.py:1151\u001b[0m, in \u001b[0;36mArrowBasedBuilder._prepare_split\u001b[0;34m(self, split_generator)\u001b[0m\n\u001b[1;32m   1149\u001b[0m generator \u001b[38;5;241m=\u001b[39m \u001b[38;5;28mself\u001b[39m\u001b[38;5;241m.\u001b[39m_generate_tables(\u001b[38;5;241m*\u001b[39m\u001b[38;5;241m*\u001b[39msplit_generator\u001b[38;5;241m.\u001b[39mgen_kwargs)\n\u001b[1;32m   1150\u001b[0m \u001b[38;5;28;01mwith\u001b[39;00m ArrowWriter(features\u001b[38;5;241m=\u001b[39m\u001b[38;5;28mself\u001b[39m\u001b[38;5;241m.\u001b[39minfo\u001b[38;5;241m.\u001b[39mfeatures, path\u001b[38;5;241m=\u001b[39mfpath) \u001b[38;5;28;01mas\u001b[39;00m writer:\n\u001b[0;32m-> 1151\u001b[0m     \u001b[38;5;28;01mfor\u001b[39;00m key, table \u001b[38;5;129;01min\u001b[39;00m logging\u001b[38;5;241m.\u001b[39mtqdm(\n\u001b[1;32m   1152\u001b[0m         generator, unit\u001b[38;5;241m=\u001b[39m\u001b[38;5;124m\"\u001b[39m\u001b[38;5;124m tables\u001b[39m\u001b[38;5;124m\"\u001b[39m, leave\u001b[38;5;241m=\u001b[39m\u001b[38;5;28;01mFalse\u001b[39;00m, disable\u001b[38;5;241m=\u001b[39m\u001b[38;5;28;01mTrue\u001b[39;00m  \u001b[38;5;66;03m# not logging.is_progress_bar_enabled()\u001b[39;00m\n\u001b[1;32m   1153\u001b[0m     ):\n\u001b[1;32m   1154\u001b[0m         writer\u001b[38;5;241m.\u001b[39mwrite_table(table)\n\u001b[1;32m   1155\u001b[0m     num_examples, num_bytes \u001b[38;5;241m=\u001b[39m writer\u001b[38;5;241m.\u001b[39mfinalize()\n",
            "File \u001b[0;32m/opt/conda/lib/python3.10/site-packages/tqdm/notebook.py:249\u001b[0m, in \u001b[0;36mtqdm_notebook.__iter__\u001b[0;34m(self)\u001b[0m\n\u001b[1;32m    247\u001b[0m \u001b[38;5;28;01mtry\u001b[39;00m:\n\u001b[1;32m    248\u001b[0m     it \u001b[38;5;241m=\u001b[39m \u001b[38;5;28msuper\u001b[39m(tqdm_notebook, \u001b[38;5;28mself\u001b[39m)\u001b[38;5;241m.\u001b[39m\u001b[38;5;21m__iter__\u001b[39m()\n\u001b[0;32m--> 249\u001b[0m     \u001b[38;5;28;01mfor\u001b[39;00m obj \u001b[38;5;129;01min\u001b[39;00m it:\n\u001b[1;32m    250\u001b[0m         \u001b[38;5;66;03m# return super(tqdm...) will not catch exception\u001b[39;00m\n\u001b[1;32m    251\u001b[0m         \u001b[38;5;28;01myield\u001b[39;00m obj\n\u001b[1;32m    252\u001b[0m \u001b[38;5;66;03m# NB: except ... [ as ...] breaks IPython async KeyboardInterrupt\u001b[39;00m\n",
            "File \u001b[0;32m/opt/conda/lib/python3.10/site-packages/tqdm/std.py:1170\u001b[0m, in \u001b[0;36mtqdm.__iter__\u001b[0;34m(self)\u001b[0m\n\u001b[1;32m   1167\u001b[0m \u001b[38;5;66;03m# If the bar is disabled, then just walk the iterable\u001b[39;00m\n\u001b[1;32m   1168\u001b[0m \u001b[38;5;66;03m# (note: keep this check outside the loop for performance)\u001b[39;00m\n\u001b[1;32m   1169\u001b[0m \u001b[38;5;28;01mif\u001b[39;00m \u001b[38;5;28mself\u001b[39m\u001b[38;5;241m.\u001b[39mdisable:\n\u001b[0;32m-> 1170\u001b[0m     \u001b[38;5;28;01mfor\u001b[39;00m obj \u001b[38;5;129;01min\u001b[39;00m iterable:\n\u001b[1;32m   1171\u001b[0m         \u001b[38;5;28;01myield\u001b[39;00m obj\n\u001b[1;32m   1172\u001b[0m     \u001b[38;5;28;01mreturn\u001b[39;00m\n",
            "File \u001b[0;32m/opt/conda/lib/python3.10/site-packages/datasets/packaged_modules/csv/csv.py:154\u001b[0m, in \u001b[0;36mCsv._generate_tables\u001b[0;34m(self, files)\u001b[0m\n\u001b[1;32m    152\u001b[0m dtype \u001b[38;5;241m=\u001b[39m {name: dtype\u001b[38;5;241m.\u001b[39mto_pandas_dtype() \u001b[38;5;28;01mfor\u001b[39;00m name, dtype \u001b[38;5;129;01min\u001b[39;00m \u001b[38;5;28mzip\u001b[39m(schema\u001b[38;5;241m.\u001b[39mnames, schema\u001b[38;5;241m.\u001b[39mtypes)} \u001b[38;5;28;01mif\u001b[39;00m schema \u001b[38;5;28;01melse\u001b[39;00m \u001b[38;5;28;01mNone\u001b[39;00m\n\u001b[1;32m    153\u001b[0m \u001b[38;5;28;01mfor\u001b[39;00m file_idx, file \u001b[38;5;129;01min\u001b[39;00m \u001b[38;5;28menumerate\u001b[39m(files):\n\u001b[0;32m--> 154\u001b[0m     csv_file_reader \u001b[38;5;241m=\u001b[39m \u001b[43mpd\u001b[49m\u001b[38;5;241;43m.\u001b[39;49m\u001b[43mread_csv\u001b[49m\u001b[43m(\u001b[49m\u001b[43mfile\u001b[49m\u001b[43m,\u001b[49m\u001b[43m \u001b[49m\u001b[43miterator\u001b[49m\u001b[38;5;241;43m=\u001b[39;49m\u001b[38;5;28;43;01mTrue\u001b[39;49;00m\u001b[43m,\u001b[49m\u001b[43m \u001b[49m\u001b[43mdtype\u001b[49m\u001b[38;5;241;43m=\u001b[39;49m\u001b[43mdtype\u001b[49m\u001b[43m,\u001b[49m\u001b[43m \u001b[49m\u001b[38;5;241;43m*\u001b[39;49m\u001b[38;5;241;43m*\u001b[39;49m\u001b[38;5;28;43mself\u001b[39;49m\u001b[38;5;241;43m.\u001b[39;49m\u001b[43mconfig\u001b[49m\u001b[38;5;241;43m.\u001b[39;49m\u001b[43mread_csv_kwargs\u001b[49m\u001b[43m)\u001b[49m\n\u001b[1;32m    155\u001b[0m     \u001b[38;5;28;01mtry\u001b[39;00m:\n\u001b[1;32m    156\u001b[0m         \u001b[38;5;28;01mfor\u001b[39;00m batch_idx, df \u001b[38;5;129;01min\u001b[39;00m \u001b[38;5;28menumerate\u001b[39m(csv_file_reader):\n",
            "\u001b[0;31mTypeError\u001b[0m: read_csv() got an unexpected keyword argument 'mangle_dupe_cols'"
          ],
          "ename": "TypeError",
          "evalue": "read_csv() got an unexpected keyword argument 'mangle_dupe_cols'",
          "output_type": "error"
        }
      ]
    },
    {
      "cell_type": "code",
      "source": [
        "df=load_dataset('csv',data_files=[\"/kaggle/input/chocolate-ratings/chocolate.csv\"],delimiter = '\\t')\n"
      ],
      "metadata": {
        "execution": {
          "iopub.status.busy": "2024-02-14T16:34:00.630751Z",
          "iopub.execute_input": "2024-02-14T16:34:00.631157Z",
          "iopub.status.idle": "2024-02-14T16:34:01.656484Z",
          "shell.execute_reply.started": "2024-02-14T16:34:00.631128Z",
          "shell.execute_reply": "2024-02-14T16:34:01.654616Z"
        },
        "trusted": true,
        "id": "RAltYKftlseo",
        "outputId": "9f198329-0296-4550-dd73-29f47d8ae6c0",
        "colab": {
          "referenced_widgets": [
            "c49d9199099f4ca9aedf6ae7b72a58bf",
            "e60b010bb16e4fafa6896bc4e66dc527"
          ]
        }
      },
      "execution_count": null,
      "outputs": [
        {
          "name": "stdout",
          "text": "Downloading and preparing dataset csv/default to /root/.cache/huggingface/datasets/csv/default-d5d253428a6d9bad/0.0.0/433e0ccc46f9880962cc2b12065189766fbb2bee57a221866138fb9203c83519...\n",
          "output_type": "stream"
        },
        {
          "output_type": "display_data",
          "data": {
            "text/plain": "Downloading data files:   0%|          | 0/1 [00:00<?, ?it/s]",
            "application/vnd.jupyter.widget-view+json": {
              "version_major": 2,
              "version_minor": 0,
              "model_id": "c49d9199099f4ca9aedf6ae7b72a58bf"
            }
          },
          "metadata": {}
        },
        {
          "output_type": "display_data",
          "data": {
            "text/plain": "Extracting data files:   0%|          | 0/1 [00:00<?, ?it/s]",
            "application/vnd.jupyter.widget-view+json": {
              "version_major": 2,
              "version_minor": 0,
              "model_id": "e60b010bb16e4fafa6896bc4e66dc527"
            }
          },
          "metadata": {}
        },
        {
          "traceback": [
            "\u001b[0;31m---------------------------------------------------------------------------\u001b[0m",
            "\u001b[0;31mTypeError\u001b[0m                                 Traceback (most recent call last)",
            "Cell \u001b[0;32mIn[33], line 1\u001b[0m\n\u001b[0;32m----> 1\u001b[0m df\u001b[38;5;241m=\u001b[39m\u001b[43mload_dataset\u001b[49m\u001b[43m(\u001b[49m\u001b[38;5;124;43m'\u001b[39;49m\u001b[38;5;124;43mcsv\u001b[39;49m\u001b[38;5;124;43m'\u001b[39;49m\u001b[43m,\u001b[49m\u001b[43mdata_files\u001b[49m\u001b[38;5;241;43m=\u001b[39;49m\u001b[43m[\u001b[49m\u001b[38;5;124;43m\"\u001b[39;49m\u001b[38;5;124;43m/kaggle/input/chocolate-ratings/chocolate.csv\u001b[39;49m\u001b[38;5;124;43m\"\u001b[39;49m\u001b[43m]\u001b[49m\u001b[43m,\u001b[49m\u001b[43mdelimiter\u001b[49m\u001b[43m \u001b[49m\u001b[38;5;241;43m=\u001b[39;49m\u001b[43m \u001b[49m\u001b[38;5;124;43m'\u001b[39;49m\u001b[38;5;130;43;01m\\t\u001b[39;49;00m\u001b[38;5;124;43m'\u001b[39;49m\u001b[43m)\u001b[49m\n",
            "File \u001b[0;32m/opt/conda/lib/python3.10/site-packages/datasets/load.py:1691\u001b[0m, in \u001b[0;36mload_dataset\u001b[0;34m(path, name, data_dir, data_files, split, cache_dir, features, download_config, download_mode, ignore_verifications, keep_in_memory, save_infos, revision, use_auth_token, task, streaming, **config_kwargs)\u001b[0m\n\u001b[1;32m   1688\u001b[0m try_from_hf_gcs \u001b[38;5;241m=\u001b[39m path \u001b[38;5;129;01mnot\u001b[39;00m \u001b[38;5;129;01min\u001b[39;00m _PACKAGED_DATASETS_MODULES\n\u001b[1;32m   1690\u001b[0m \u001b[38;5;66;03m# Download and prepare data\u001b[39;00m\n\u001b[0;32m-> 1691\u001b[0m \u001b[43mbuilder_instance\u001b[49m\u001b[38;5;241;43m.\u001b[39;49m\u001b[43mdownload_and_prepare\u001b[49m\u001b[43m(\u001b[49m\n\u001b[1;32m   1692\u001b[0m \u001b[43m    \u001b[49m\u001b[43mdownload_config\u001b[49m\u001b[38;5;241;43m=\u001b[39;49m\u001b[43mdownload_config\u001b[49m\u001b[43m,\u001b[49m\n\u001b[1;32m   1693\u001b[0m \u001b[43m    \u001b[49m\u001b[43mdownload_mode\u001b[49m\u001b[38;5;241;43m=\u001b[39;49m\u001b[43mdownload_mode\u001b[49m\u001b[43m,\u001b[49m\n\u001b[1;32m   1694\u001b[0m \u001b[43m    \u001b[49m\u001b[43mignore_verifications\u001b[49m\u001b[38;5;241;43m=\u001b[39;49m\u001b[43mignore_verifications\u001b[49m\u001b[43m,\u001b[49m\n\u001b[1;32m   1695\u001b[0m \u001b[43m    \u001b[49m\u001b[43mtry_from_hf_gcs\u001b[49m\u001b[38;5;241;43m=\u001b[39;49m\u001b[43mtry_from_hf_gcs\u001b[49m\u001b[43m,\u001b[49m\n\u001b[1;32m   1696\u001b[0m \u001b[43m    \u001b[49m\u001b[43muse_auth_token\u001b[49m\u001b[38;5;241;43m=\u001b[39;49m\u001b[43muse_auth_token\u001b[49m\u001b[43m,\u001b[49m\n\u001b[1;32m   1697\u001b[0m \u001b[43m\u001b[49m\u001b[43m)\u001b[49m\n\u001b[1;32m   1699\u001b[0m \u001b[38;5;66;03m# Build dataset for splits\u001b[39;00m\n\u001b[1;32m   1700\u001b[0m keep_in_memory \u001b[38;5;241m=\u001b[39m (\n\u001b[1;32m   1701\u001b[0m     keep_in_memory \u001b[38;5;28;01mif\u001b[39;00m keep_in_memory \u001b[38;5;129;01mis\u001b[39;00m \u001b[38;5;129;01mnot\u001b[39;00m \u001b[38;5;28;01mNone\u001b[39;00m \u001b[38;5;28;01melse\u001b[39;00m is_small_dataset(builder_instance\u001b[38;5;241m.\u001b[39minfo\u001b[38;5;241m.\u001b[39mdataset_size)\n\u001b[1;32m   1702\u001b[0m )\n",
            "File \u001b[0;32m/opt/conda/lib/python3.10/site-packages/datasets/builder.py:605\u001b[0m, in \u001b[0;36mDatasetBuilder.download_and_prepare\u001b[0;34m(self, download_config, download_mode, ignore_verifications, try_from_hf_gcs, dl_manager, base_path, use_auth_token, **download_and_prepare_kwargs)\u001b[0m\n\u001b[1;32m    603\u001b[0m         logger\u001b[38;5;241m.\u001b[39mwarning(\u001b[38;5;124m\"\u001b[39m\u001b[38;5;124mHF google storage unreachable. Downloading and preparing it from source\u001b[39m\u001b[38;5;124m\"\u001b[39m)\n\u001b[1;32m    604\u001b[0m \u001b[38;5;28;01mif\u001b[39;00m \u001b[38;5;129;01mnot\u001b[39;00m downloaded_from_gcs:\n\u001b[0;32m--> 605\u001b[0m     \u001b[38;5;28;43mself\u001b[39;49m\u001b[38;5;241;43m.\u001b[39;49m\u001b[43m_download_and_prepare\u001b[49m\u001b[43m(\u001b[49m\n\u001b[1;32m    606\u001b[0m \u001b[43m        \u001b[49m\u001b[43mdl_manager\u001b[49m\u001b[38;5;241;43m=\u001b[39;49m\u001b[43mdl_manager\u001b[49m\u001b[43m,\u001b[49m\u001b[43m \u001b[49m\u001b[43mverify_infos\u001b[49m\u001b[38;5;241;43m=\u001b[39;49m\u001b[43mverify_infos\u001b[49m\u001b[43m,\u001b[49m\u001b[43m \u001b[49m\u001b[38;5;241;43m*\u001b[39;49m\u001b[38;5;241;43m*\u001b[39;49m\u001b[43mdownload_and_prepare_kwargs\u001b[49m\n\u001b[1;32m    607\u001b[0m \u001b[43m    \u001b[49m\u001b[43m)\u001b[49m\n\u001b[1;32m    608\u001b[0m \u001b[38;5;66;03m# Sync info\u001b[39;00m\n\u001b[1;32m    609\u001b[0m \u001b[38;5;28mself\u001b[39m\u001b[38;5;241m.\u001b[39minfo\u001b[38;5;241m.\u001b[39mdataset_size \u001b[38;5;241m=\u001b[39m \u001b[38;5;28msum\u001b[39m(split\u001b[38;5;241m.\u001b[39mnum_bytes \u001b[38;5;28;01mfor\u001b[39;00m split \u001b[38;5;129;01min\u001b[39;00m \u001b[38;5;28mself\u001b[39m\u001b[38;5;241m.\u001b[39minfo\u001b[38;5;241m.\u001b[39msplits\u001b[38;5;241m.\u001b[39mvalues())\n",
            "File \u001b[0;32m/opt/conda/lib/python3.10/site-packages/datasets/builder.py:694\u001b[0m, in \u001b[0;36mDatasetBuilder._download_and_prepare\u001b[0;34m(self, dl_manager, verify_infos, **prepare_split_kwargs)\u001b[0m\n\u001b[1;32m    690\u001b[0m split_dict\u001b[38;5;241m.\u001b[39madd(split_generator\u001b[38;5;241m.\u001b[39msplit_info)\n\u001b[1;32m    692\u001b[0m \u001b[38;5;28;01mtry\u001b[39;00m:\n\u001b[1;32m    693\u001b[0m     \u001b[38;5;66;03m# Prepare split will record examples associated to the split\u001b[39;00m\n\u001b[0;32m--> 694\u001b[0m     \u001b[38;5;28;43mself\u001b[39;49m\u001b[38;5;241;43m.\u001b[39;49m\u001b[43m_prepare_split\u001b[49m\u001b[43m(\u001b[49m\u001b[43msplit_generator\u001b[49m\u001b[43m,\u001b[49m\u001b[43m \u001b[49m\u001b[38;5;241;43m*\u001b[39;49m\u001b[38;5;241;43m*\u001b[39;49m\u001b[43mprepare_split_kwargs\u001b[49m\u001b[43m)\u001b[49m\n\u001b[1;32m    695\u001b[0m \u001b[38;5;28;01mexcept\u001b[39;00m \u001b[38;5;167;01mOSError\u001b[39;00m \u001b[38;5;28;01mas\u001b[39;00m e:\n\u001b[1;32m    696\u001b[0m     \u001b[38;5;28;01mraise\u001b[39;00m \u001b[38;5;167;01mOSError\u001b[39;00m(\n\u001b[1;32m    697\u001b[0m         \u001b[38;5;124m\"\u001b[39m\u001b[38;5;124mCannot find data file. \u001b[39m\u001b[38;5;124m\"\u001b[39m\n\u001b[1;32m    698\u001b[0m         \u001b[38;5;241m+\u001b[39m (\u001b[38;5;28mself\u001b[39m\u001b[38;5;241m.\u001b[39mmanual_download_instructions \u001b[38;5;129;01mor\u001b[39;00m \u001b[38;5;124m\"\u001b[39m\u001b[38;5;124m\"\u001b[39m)\n\u001b[1;32m    699\u001b[0m         \u001b[38;5;241m+\u001b[39m \u001b[38;5;124m\"\u001b[39m\u001b[38;5;130;01m\\n\u001b[39;00m\u001b[38;5;124mOriginal error:\u001b[39m\u001b[38;5;130;01m\\n\u001b[39;00m\u001b[38;5;124m\"\u001b[39m\n\u001b[1;32m    700\u001b[0m         \u001b[38;5;241m+\u001b[39m \u001b[38;5;28mstr\u001b[39m(e)\n\u001b[1;32m    701\u001b[0m     ) \u001b[38;5;28;01mfrom\u001b[39;00m \u001b[38;5;28;01mNone\u001b[39;00m\n",
            "File \u001b[0;32m/opt/conda/lib/python3.10/site-packages/datasets/builder.py:1151\u001b[0m, in \u001b[0;36mArrowBasedBuilder._prepare_split\u001b[0;34m(self, split_generator)\u001b[0m\n\u001b[1;32m   1149\u001b[0m generator \u001b[38;5;241m=\u001b[39m \u001b[38;5;28mself\u001b[39m\u001b[38;5;241m.\u001b[39m_generate_tables(\u001b[38;5;241m*\u001b[39m\u001b[38;5;241m*\u001b[39msplit_generator\u001b[38;5;241m.\u001b[39mgen_kwargs)\n\u001b[1;32m   1150\u001b[0m \u001b[38;5;28;01mwith\u001b[39;00m ArrowWriter(features\u001b[38;5;241m=\u001b[39m\u001b[38;5;28mself\u001b[39m\u001b[38;5;241m.\u001b[39minfo\u001b[38;5;241m.\u001b[39mfeatures, path\u001b[38;5;241m=\u001b[39mfpath) \u001b[38;5;28;01mas\u001b[39;00m writer:\n\u001b[0;32m-> 1151\u001b[0m     \u001b[38;5;28;01mfor\u001b[39;00m key, table \u001b[38;5;129;01min\u001b[39;00m logging\u001b[38;5;241m.\u001b[39mtqdm(\n\u001b[1;32m   1152\u001b[0m         generator, unit\u001b[38;5;241m=\u001b[39m\u001b[38;5;124m\"\u001b[39m\u001b[38;5;124m tables\u001b[39m\u001b[38;5;124m\"\u001b[39m, leave\u001b[38;5;241m=\u001b[39m\u001b[38;5;28;01mFalse\u001b[39;00m, disable\u001b[38;5;241m=\u001b[39m\u001b[38;5;28;01mTrue\u001b[39;00m  \u001b[38;5;66;03m# not logging.is_progress_bar_enabled()\u001b[39;00m\n\u001b[1;32m   1153\u001b[0m     ):\n\u001b[1;32m   1154\u001b[0m         writer\u001b[38;5;241m.\u001b[39mwrite_table(table)\n\u001b[1;32m   1155\u001b[0m     num_examples, num_bytes \u001b[38;5;241m=\u001b[39m writer\u001b[38;5;241m.\u001b[39mfinalize()\n",
            "File \u001b[0;32m/opt/conda/lib/python3.10/site-packages/tqdm/notebook.py:249\u001b[0m, in \u001b[0;36mtqdm_notebook.__iter__\u001b[0;34m(self)\u001b[0m\n\u001b[1;32m    247\u001b[0m \u001b[38;5;28;01mtry\u001b[39;00m:\n\u001b[1;32m    248\u001b[0m     it \u001b[38;5;241m=\u001b[39m \u001b[38;5;28msuper\u001b[39m(tqdm_notebook, \u001b[38;5;28mself\u001b[39m)\u001b[38;5;241m.\u001b[39m\u001b[38;5;21m__iter__\u001b[39m()\n\u001b[0;32m--> 249\u001b[0m     \u001b[38;5;28;01mfor\u001b[39;00m obj \u001b[38;5;129;01min\u001b[39;00m it:\n\u001b[1;32m    250\u001b[0m         \u001b[38;5;66;03m# return super(tqdm...) will not catch exception\u001b[39;00m\n\u001b[1;32m    251\u001b[0m         \u001b[38;5;28;01myield\u001b[39;00m obj\n\u001b[1;32m    252\u001b[0m \u001b[38;5;66;03m# NB: except ... [ as ...] breaks IPython async KeyboardInterrupt\u001b[39;00m\n",
            "File \u001b[0;32m/opt/conda/lib/python3.10/site-packages/tqdm/std.py:1170\u001b[0m, in \u001b[0;36mtqdm.__iter__\u001b[0;34m(self)\u001b[0m\n\u001b[1;32m   1167\u001b[0m \u001b[38;5;66;03m# If the bar is disabled, then just walk the iterable\u001b[39;00m\n\u001b[1;32m   1168\u001b[0m \u001b[38;5;66;03m# (note: keep this check outside the loop for performance)\u001b[39;00m\n\u001b[1;32m   1169\u001b[0m \u001b[38;5;28;01mif\u001b[39;00m \u001b[38;5;28mself\u001b[39m\u001b[38;5;241m.\u001b[39mdisable:\n\u001b[0;32m-> 1170\u001b[0m     \u001b[38;5;28;01mfor\u001b[39;00m obj \u001b[38;5;129;01min\u001b[39;00m iterable:\n\u001b[1;32m   1171\u001b[0m         \u001b[38;5;28;01myield\u001b[39;00m obj\n\u001b[1;32m   1172\u001b[0m     \u001b[38;5;28;01mreturn\u001b[39;00m\n",
            "File \u001b[0;32m/opt/conda/lib/python3.10/site-packages/datasets/packaged_modules/csv/csv.py:154\u001b[0m, in \u001b[0;36mCsv._generate_tables\u001b[0;34m(self, files)\u001b[0m\n\u001b[1;32m    152\u001b[0m dtype \u001b[38;5;241m=\u001b[39m {name: dtype\u001b[38;5;241m.\u001b[39mto_pandas_dtype() \u001b[38;5;28;01mfor\u001b[39;00m name, dtype \u001b[38;5;129;01min\u001b[39;00m \u001b[38;5;28mzip\u001b[39m(schema\u001b[38;5;241m.\u001b[39mnames, schema\u001b[38;5;241m.\u001b[39mtypes)} \u001b[38;5;28;01mif\u001b[39;00m schema \u001b[38;5;28;01melse\u001b[39;00m \u001b[38;5;28;01mNone\u001b[39;00m\n\u001b[1;32m    153\u001b[0m \u001b[38;5;28;01mfor\u001b[39;00m file_idx, file \u001b[38;5;129;01min\u001b[39;00m \u001b[38;5;28menumerate\u001b[39m(files):\n\u001b[0;32m--> 154\u001b[0m     csv_file_reader \u001b[38;5;241m=\u001b[39m \u001b[43mpd\u001b[49m\u001b[38;5;241;43m.\u001b[39;49m\u001b[43mread_csv\u001b[49m\u001b[43m(\u001b[49m\u001b[43mfile\u001b[49m\u001b[43m,\u001b[49m\u001b[43m \u001b[49m\u001b[43miterator\u001b[49m\u001b[38;5;241;43m=\u001b[39;49m\u001b[38;5;28;43;01mTrue\u001b[39;49;00m\u001b[43m,\u001b[49m\u001b[43m \u001b[49m\u001b[43mdtype\u001b[49m\u001b[38;5;241;43m=\u001b[39;49m\u001b[43mdtype\u001b[49m\u001b[43m,\u001b[49m\u001b[43m \u001b[49m\u001b[38;5;241;43m*\u001b[39;49m\u001b[38;5;241;43m*\u001b[39;49m\u001b[38;5;28;43mself\u001b[39;49m\u001b[38;5;241;43m.\u001b[39;49m\u001b[43mconfig\u001b[49m\u001b[38;5;241;43m.\u001b[39;49m\u001b[43mread_csv_kwargs\u001b[49m\u001b[43m)\u001b[49m\n\u001b[1;32m    155\u001b[0m     \u001b[38;5;28;01mtry\u001b[39;00m:\n\u001b[1;32m    156\u001b[0m         \u001b[38;5;28;01mfor\u001b[39;00m batch_idx, df \u001b[38;5;129;01min\u001b[39;00m \u001b[38;5;28menumerate\u001b[39m(csv_file_reader):\n",
            "\u001b[0;31mTypeError\u001b[0m: read_csv() got an unexpected keyword argument 'mangle_dupe_cols'"
          ],
          "ename": "TypeError",
          "evalue": "read_csv() got an unexpected keyword argument 'mangle_dupe_cols'",
          "output_type": "error"
        }
      ]
    },
    {
      "cell_type": "code",
      "source": [
        "import torch\n",
        "print(f\"The GPU total memory is {torch.cuda.get_device_properties(0).total_memory/(1024**3)} GB\")"
      ],
      "metadata": {
        "execution": {
          "iopub.status.busy": "2024-02-14T16:41:37.45154Z",
          "iopub.execute_input": "2024-02-14T16:41:37.451969Z",
          "iopub.status.idle": "2024-02-14T16:41:37.667582Z",
          "shell.execute_reply.started": "2024-02-14T16:41:37.451936Z",
          "shell.execute_reply": "2024-02-14T16:41:37.665485Z"
        },
        "trusted": true,
        "id": "xr-cB7VBlsep",
        "outputId": "130e00a4-8f93-491f-fb15-9f319acbc275"
      },
      "execution_count": null,
      "outputs": [
        {
          "traceback": [
            "\u001b[0;31m---------------------------------------------------------------------------\u001b[0m",
            "\u001b[0;31mAssertionError\u001b[0m                            Traceback (most recent call last)",
            "Cell \u001b[0;32mIn[36], line 2\u001b[0m\n\u001b[1;32m      1\u001b[0m \u001b[38;5;28;01mimport\u001b[39;00m \u001b[38;5;21;01mtorch\u001b[39;00m\n\u001b[0;32m----> 2\u001b[0m \u001b[38;5;28mprint\u001b[39m(\u001b[38;5;124mf\u001b[39m\u001b[38;5;124m\"\u001b[39m\u001b[38;5;124mThe GPU total memory is \u001b[39m\u001b[38;5;132;01m{\u001b[39;00m\u001b[43mtorch\u001b[49m\u001b[38;5;241;43m.\u001b[39;49m\u001b[43mcuda\u001b[49m\u001b[38;5;241;43m.\u001b[39;49m\u001b[43mget_device_properties\u001b[49m\u001b[43m(\u001b[49m\u001b[38;5;241;43m0\u001b[39;49m\u001b[43m)\u001b[49m\u001b[38;5;241m.\u001b[39mtotal_memory\u001b[38;5;241m/\u001b[39m(\u001b[38;5;241m1024\u001b[39m\u001b[38;5;241m*\u001b[39m\u001b[38;5;241m*\u001b[39m\u001b[38;5;241m3\u001b[39m)\u001b[38;5;132;01m}\u001b[39;00m\u001b[38;5;124m GB\u001b[39m\u001b[38;5;124m\"\u001b[39m)\n",
            "File \u001b[0;32m/opt/conda/lib/python3.10/site-packages/torch/cuda/__init__.py:449\u001b[0m, in \u001b[0;36mget_device_properties\u001b[0;34m(device)\u001b[0m\n\u001b[1;32m    439\u001b[0m \u001b[38;5;28;01mdef\u001b[39;00m \u001b[38;5;21mget_device_properties\u001b[39m(device: _device_t) \u001b[38;5;241m-\u001b[39m\u001b[38;5;241m>\u001b[39m _CudaDeviceProperties:\n\u001b[1;32m    440\u001b[0m \u001b[38;5;250m    \u001b[39m\u001b[38;5;124mr\u001b[39m\u001b[38;5;124;03m\"\"\"Gets the properties of a device.\u001b[39;00m\n\u001b[1;32m    441\u001b[0m \n\u001b[1;32m    442\u001b[0m \u001b[38;5;124;03m    Args:\u001b[39;00m\n\u001b[0;32m   (...)\u001b[0m\n\u001b[1;32m    447\u001b[0m \u001b[38;5;124;03m        _CudaDeviceProperties: the properties of the device\u001b[39;00m\n\u001b[1;32m    448\u001b[0m \u001b[38;5;124;03m    \"\"\"\u001b[39;00m\n\u001b[0;32m--> 449\u001b[0m     \u001b[43m_lazy_init\u001b[49m\u001b[43m(\u001b[49m\u001b[43m)\u001b[49m  \u001b[38;5;66;03m# will define _get_device_properties\u001b[39;00m\n\u001b[1;32m    450\u001b[0m     device \u001b[38;5;241m=\u001b[39m _get_device_index(device, optional\u001b[38;5;241m=\u001b[39m\u001b[38;5;28;01mTrue\u001b[39;00m)\n\u001b[1;32m    451\u001b[0m     \u001b[38;5;28;01mif\u001b[39;00m device \u001b[38;5;241m<\u001b[39m \u001b[38;5;241m0\u001b[39m \u001b[38;5;129;01mor\u001b[39;00m device \u001b[38;5;241m>\u001b[39m\u001b[38;5;241m=\u001b[39m device_count():\n",
            "File \u001b[0;32m/opt/conda/lib/python3.10/site-packages/torch/cuda/__init__.py:289\u001b[0m, in \u001b[0;36m_lazy_init\u001b[0;34m()\u001b[0m\n\u001b[1;32m    284\u001b[0m     \u001b[38;5;28;01mraise\u001b[39;00m \u001b[38;5;167;01mRuntimeError\u001b[39;00m(\n\u001b[1;32m    285\u001b[0m         \u001b[38;5;124m\"\u001b[39m\u001b[38;5;124mCannot re-initialize CUDA in forked subprocess. To use CUDA with \u001b[39m\u001b[38;5;124m\"\u001b[39m\n\u001b[1;32m    286\u001b[0m         \u001b[38;5;124m\"\u001b[39m\u001b[38;5;124mmultiprocessing, you must use the \u001b[39m\u001b[38;5;124m'\u001b[39m\u001b[38;5;124mspawn\u001b[39m\u001b[38;5;124m'\u001b[39m\u001b[38;5;124m start method\u001b[39m\u001b[38;5;124m\"\u001b[39m\n\u001b[1;32m    287\u001b[0m     )\n\u001b[1;32m    288\u001b[0m \u001b[38;5;28;01mif\u001b[39;00m \u001b[38;5;129;01mnot\u001b[39;00m \u001b[38;5;28mhasattr\u001b[39m(torch\u001b[38;5;241m.\u001b[39m_C, \u001b[38;5;124m\"\u001b[39m\u001b[38;5;124m_cuda_getDeviceCount\u001b[39m\u001b[38;5;124m\"\u001b[39m):\n\u001b[0;32m--> 289\u001b[0m     \u001b[38;5;28;01mraise\u001b[39;00m \u001b[38;5;167;01mAssertionError\u001b[39;00m(\u001b[38;5;124m\"\u001b[39m\u001b[38;5;124mTorch not compiled with CUDA enabled\u001b[39m\u001b[38;5;124m\"\u001b[39m)\n\u001b[1;32m    290\u001b[0m \u001b[38;5;28;01mif\u001b[39;00m _cudart \u001b[38;5;129;01mis\u001b[39;00m \u001b[38;5;28;01mNone\u001b[39;00m:\n\u001b[1;32m    291\u001b[0m     \u001b[38;5;28;01mraise\u001b[39;00m \u001b[38;5;167;01mAssertionError\u001b[39;00m(\n\u001b[1;32m    292\u001b[0m         \u001b[38;5;124m\"\u001b[39m\u001b[38;5;124mlibcudart functions unavailable. It looks like you have a broken build?\u001b[39m\u001b[38;5;124m\"\u001b[39m\n\u001b[1;32m    293\u001b[0m     )\n",
            "\u001b[0;31mAssertionError\u001b[0m: Torch not compiled with CUDA enabled"
          ],
          "ename": "AssertionError",
          "evalue": "Torch not compiled with CUDA enabled",
          "output_type": "error"
        }
      ]
    },
    {
      "cell_type": "code",
      "source": [
        "from transformers import PyTorchBenchmark, PyTorchBenchmarkArguments\n",
        "models= [\"BERT-base-uncased\",\"distilBERT-base-uncased\",\"distilroBERTa-base\",\n",
        "\"distilBERT-base-german-cased\"]\n",
        "batch_sizes=[4]\n",
        "sequence_lengths=[32,64, 128, 256,512]\n",
        "args = PyTorchBenchmarkArguments(models=models, batch_sizes=batch_sizes,\n",
        "sequence_lengths=sequence_lengths, multi_process=False)\n",
        "benchmark = PyTorchBenchmark(args)"
      ],
      "metadata": {
        "execution": {
          "iopub.status.busy": "2024-02-14T16:47:50.18629Z",
          "iopub.execute_input": "2024-02-14T16:47:50.186712Z",
          "iopub.status.idle": "2024-02-14T16:47:52.774606Z",
          "shell.execute_reply.started": "2024-02-14T16:47:50.186681Z",
          "shell.execute_reply": "2024-02-14T16:47:52.773524Z"
        },
        "trusted": true,
        "id": "98k0UAMulsep",
        "outputId": "2ab735af-d87d-412b-c034-2b15a179c518",
        "colab": {
          "referenced_widgets": [
            "4364c17578254814a88157d4e049a7fd",
            "3ac7adfd79ce4412b133dac16b62d54b",
            "ffe1dcb8be7e47a8891c3496cf0508e5"
          ]
        }
      },
      "execution_count": null,
      "outputs": [
        {
          "name": "stderr",
          "text": "/opt/conda/lib/python3.10/site-packages/transformers/benchmark/benchmark_args_utils.py:136: FutureWarning: The class <class 'transformers.benchmark.benchmark_args.PyTorchBenchmarkArguments'> is deprecated. Hugging Face Benchmarking utils are deprecated in general and it is advised to use external Benchmarking libraries  to benchmark Transformer models.\n  warnings.warn(\n",
          "output_type": "stream"
        },
        {
          "output_type": "display_data",
          "data": {
            "text/plain": "config.json:   0%|          | 0.00/483 [00:00<?, ?B/s]",
            "application/vnd.jupyter.widget-view+json": {
              "version_major": 2,
              "version_minor": 0,
              "model_id": "4364c17578254814a88157d4e049a7fd"
            }
          },
          "metadata": {}
        },
        {
          "output_type": "display_data",
          "data": {
            "text/plain": "config.json:   0%|          | 0.00/480 [00:00<?, ?B/s]",
            "application/vnd.jupyter.widget-view+json": {
              "version_major": 2,
              "version_minor": 0,
              "model_id": "3ac7adfd79ce4412b133dac16b62d54b"
            }
          },
          "metadata": {}
        },
        {
          "output_type": "display_data",
          "data": {
            "text/plain": "config.json:   0%|          | 0.00/464 [00:00<?, ?B/s]",
            "application/vnd.jupyter.widget-view+json": {
              "version_major": 2,
              "version_minor": 0,
              "model_id": "ffe1dcb8be7e47a8891c3496cf0508e5"
            }
          },
          "metadata": {}
        },
        {
          "name": "stderr",
          "text": "/opt/conda/lib/python3.10/site-packages/transformers/benchmark/benchmark_utils.py:615: FutureWarning: The class <class 'transformers.benchmark.benchmark.PyTorchBenchmark'> is deprecated. Hugging Face Benchmarking utils are deprecated in general and it is advised to use external Benchmarking libraries  to benchmark Transformer models.\n  warnings.warn(\n",
          "output_type": "stream"
        }
      ]
    },
    {
      "cell_type": "code",
      "source": [
        "results = benchmark.run()"
      ],
      "metadata": {
        "execution": {
          "iopub.status.busy": "2024-02-14T16:48:00.787469Z",
          "iopub.execute_input": "2024-02-14T16:48:00.787906Z",
          "iopub.status.idle": "2024-02-14T17:03:03.417002Z",
          "shell.execute_reply.started": "2024-02-14T16:48:00.787874Z",
          "shell.execute_reply": "2024-02-14T17:03:03.415522Z"
        },
        "trusted": true,
        "id": "AQBo-3ktlsep",
        "outputId": "f6d930f7-df32-4019-ceed-4ca81be29de4"
      },
      "execution_count": null,
      "outputs": [
        {
          "name": "stdout",
          "text": "1 / 4\n",
          "output_type": "stream"
        },
        {
          "name": "stderr",
          "text": "huggingface/tokenizers: The current process just got forked, after parallelism has already been used. Disabling parallelism to avoid deadlocks...\nTo disable this warning, you can either:\n\t- Avoid using `tokenizers` before the fork if possible\n\t- Explicitly set the environment variable TOKENIZERS_PARALLELISM=(true | false)\nhuggingface/tokenizers: The current process just got forked, after parallelism has already been used. Disabling parallelism to avoid deadlocks...\nTo disable this warning, you can either:\n\t- Avoid using `tokenizers` before the fork if possible\n\t- Explicitly set the environment variable TOKENIZERS_PARALLELISM=(true | false)\nhuggingface/tokenizers: The current process just got forked, after parallelism has already been used. Disabling parallelism to avoid deadlocks...\nTo disable this warning, you can either:\n\t- Avoid using `tokenizers` before the fork if possible\n\t- Explicitly set the environment variable TOKENIZERS_PARALLELISM=(true | false)\nhuggingface/tokenizers: The current process just got forked, after parallelism has already been used. Disabling parallelism to avoid deadlocks...\nTo disable this warning, you can either:\n\t- Avoid using `tokenizers` before the fork if possible\n\t- Explicitly set the environment variable TOKENIZERS_PARALLELISM=(true | false)\nhuggingface/tokenizers: The current process just got forked, after parallelism has already been used. Disabling parallelism to avoid deadlocks...\nTo disable this warning, you can either:\n\t- Avoid using `tokenizers` before the fork if possible\n\t- Explicitly set the environment variable TOKENIZERS_PARALLELISM=(true | false)\nhuggingface/tokenizers: The current process just got forked, after parallelism has already been used. Disabling parallelism to avoid deadlocks...\nTo disable this warning, you can either:\n\t- Avoid using `tokenizers` before the fork if possible\n\t- Explicitly set the environment variable TOKENIZERS_PARALLELISM=(true | false)\nhuggingface/tokenizers: The current process just got forked, after parallelism has already been used. Disabling parallelism to avoid deadlocks...\nTo disable this warning, you can either:\n\t- Avoid using `tokenizers` before the fork if possible\n\t- Explicitly set the environment variable TOKENIZERS_PARALLELISM=(true | false)\n",
          "output_type": "stream"
        },
        {
          "name": "stdout",
          "text": "2 / 4\n",
          "output_type": "stream"
        },
        {
          "name": "stderr",
          "text": "huggingface/tokenizers: The current process just got forked, after parallelism has already been used. Disabling parallelism to avoid deadlocks...\nTo disable this warning, you can either:\n\t- Avoid using `tokenizers` before the fork if possible\n\t- Explicitly set the environment variable TOKENIZERS_PARALLELISM=(true | false)\nhuggingface/tokenizers: The current process just got forked, after parallelism has already been used. Disabling parallelism to avoid deadlocks...\nTo disable this warning, you can either:\n\t- Avoid using `tokenizers` before the fork if possible\n\t- Explicitly set the environment variable TOKENIZERS_PARALLELISM=(true | false)\nhuggingface/tokenizers: The current process just got forked, after parallelism has already been used. Disabling parallelism to avoid deadlocks...\nTo disable this warning, you can either:\n\t- Avoid using `tokenizers` before the fork if possible\n\t- Explicitly set the environment variable TOKENIZERS_PARALLELISM=(true | false)\nhuggingface/tokenizers: The current process just got forked, after parallelism has already been used. Disabling parallelism to avoid deadlocks...\nTo disable this warning, you can either:\n\t- Avoid using `tokenizers` before the fork if possible\n\t- Explicitly set the environment variable TOKENIZERS_PARALLELISM=(true | false)\nhuggingface/tokenizers: The current process just got forked, after parallelism has already been used. Disabling parallelism to avoid deadlocks...\nTo disable this warning, you can either:\n\t- Avoid using `tokenizers` before the fork if possible\n\t- Explicitly set the environment variable TOKENIZERS_PARALLELISM=(true | false)\nhuggingface/tokenizers: The current process just got forked, after parallelism has already been used. Disabling parallelism to avoid deadlocks...\nTo disable this warning, you can either:\n\t- Avoid using `tokenizers` before the fork if possible\n\t- Explicitly set the environment variable TOKENIZERS_PARALLELISM=(true | false)\nhuggingface/tokenizers: The current process just got forked, after parallelism has already been used. Disabling parallelism to avoid deadlocks...\nTo disable this warning, you can either:\n\t- Avoid using `tokenizers` before the fork if possible\n\t- Explicitly set the environment variable TOKENIZERS_PARALLELISM=(true | false)\nhuggingface/tokenizers: The current process just got forked, after parallelism has already been used. Disabling parallelism to avoid deadlocks...\nTo disable this warning, you can either:\n\t- Avoid using `tokenizers` before the fork if possible\n\t- Explicitly set the environment variable TOKENIZERS_PARALLELISM=(true | false)\n",
          "output_type": "stream"
        },
        {
          "name": "stdout",
          "text": "3 / 4\n",
          "output_type": "stream"
        },
        {
          "name": "stderr",
          "text": "huggingface/tokenizers: The current process just got forked, after parallelism has already been used. Disabling parallelism to avoid deadlocks...\nTo disable this warning, you can either:\n\t- Avoid using `tokenizers` before the fork if possible\n\t- Explicitly set the environment variable TOKENIZERS_PARALLELISM=(true | false)\nhuggingface/tokenizers: The current process just got forked, after parallelism has already been used. Disabling parallelism to avoid deadlocks...\nTo disable this warning, you can either:\n\t- Avoid using `tokenizers` before the fork if possible\n\t- Explicitly set the environment variable TOKENIZERS_PARALLELISM=(true | false)\nhuggingface/tokenizers: The current process just got forked, after parallelism has already been used. Disabling parallelism to avoid deadlocks...\nTo disable this warning, you can either:\n\t- Avoid using `tokenizers` before the fork if possible\n\t- Explicitly set the environment variable TOKENIZERS_PARALLELISM=(true | false)\nhuggingface/tokenizers: The current process just got forked, after parallelism has already been used. Disabling parallelism to avoid deadlocks...\nTo disable this warning, you can either:\n\t- Avoid using `tokenizers` before the fork if possible\n\t- Explicitly set the environment variable TOKENIZERS_PARALLELISM=(true | false)\nhuggingface/tokenizers: The current process just got forked, after parallelism has already been used. Disabling parallelism to avoid deadlocks...\nTo disable this warning, you can either:\n\t- Avoid using `tokenizers` before the fork if possible\n\t- Explicitly set the environment variable TOKENIZERS_PARALLELISM=(true | false)\nhuggingface/tokenizers: The current process just got forked, after parallelism has already been used. Disabling parallelism to avoid deadlocks...\nTo disable this warning, you can either:\n\t- Avoid using `tokenizers` before the fork if possible\n\t- Explicitly set the environment variable TOKENIZERS_PARALLELISM=(true | false)\nhuggingface/tokenizers: The current process just got forked, after parallelism has already been used. Disabling parallelism to avoid deadlocks...\nTo disable this warning, you can either:\n\t- Avoid using `tokenizers` before the fork if possible\n\t- Explicitly set the environment variable TOKENIZERS_PARALLELISM=(true | false)\nhuggingface/tokenizers: The current process just got forked, after parallelism has already been used. Disabling parallelism to avoid deadlocks...\nTo disable this warning, you can either:\n\t- Avoid using `tokenizers` before the fork if possible\n\t- Explicitly set the environment variable TOKENIZERS_PARALLELISM=(true | false)\n",
          "output_type": "stream"
        },
        {
          "name": "stdout",
          "text": "4 / 4\n",
          "output_type": "stream"
        },
        {
          "name": "stderr",
          "text": "huggingface/tokenizers: The current process just got forked, after parallelism has already been used. Disabling parallelism to avoid deadlocks...\nTo disable this warning, you can either:\n\t- Avoid using `tokenizers` before the fork if possible\n\t- Explicitly set the environment variable TOKENIZERS_PARALLELISM=(true | false)\nhuggingface/tokenizers: The current process just got forked, after parallelism has already been used. Disabling parallelism to avoid deadlocks...\nTo disable this warning, you can either:\n\t- Avoid using `tokenizers` before the fork if possible\n\t- Explicitly set the environment variable TOKENIZERS_PARALLELISM=(true | false)\nhuggingface/tokenizers: The current process just got forked, after parallelism has already been used. Disabling parallelism to avoid deadlocks...\nTo disable this warning, you can either:\n\t- Avoid using `tokenizers` before the fork if possible\n\t- Explicitly set the environment variable TOKENIZERS_PARALLELISM=(true | false)\nhuggingface/tokenizers: The current process just got forked, after parallelism has already been used. Disabling parallelism to avoid deadlocks...\nTo disable this warning, you can either:\n\t- Avoid using `tokenizers` before the fork if possible\n\t- Explicitly set the environment variable TOKENIZERS_PARALLELISM=(true | false)\nhuggingface/tokenizers: The current process just got forked, after parallelism has already been used. Disabling parallelism to avoid deadlocks...\nTo disable this warning, you can either:\n\t- Avoid using `tokenizers` before the fork if possible\n\t- Explicitly set the environment variable TOKENIZERS_PARALLELISM=(true | false)\nhuggingface/tokenizers: The current process just got forked, after parallelism has already been used. Disabling parallelism to avoid deadlocks...\nTo disable this warning, you can either:\n\t- Avoid using `tokenizers` before the fork if possible\n\t- Explicitly set the environment variable TOKENIZERS_PARALLELISM=(true | false)\nhuggingface/tokenizers: The current process just got forked, after parallelism has already been used. Disabling parallelism to avoid deadlocks...\nTo disable this warning, you can either:\n\t- Avoid using `tokenizers` before the fork if possible\n\t- Explicitly set the environment variable TOKENIZERS_PARALLELISM=(true | false)\nhuggingface/tokenizers: The current process just got forked, after parallelism has already been used. Disabling parallelism to avoid deadlocks...\nTo disable this warning, you can either:\n\t- Avoid using `tokenizers` before the fork if possible\n\t- Explicitly set the environment variable TOKENIZERS_PARALLELISM=(true | false)\n",
          "output_type": "stream"
        },
        {
          "name": "stdout",
          "text": "\n====================       INFERENCE - SPEED - RESULT       ====================\n--------------------------------------------------------------------------------\n          Model Name             Batch Size     Seq Length     Time in s   \n--------------------------------------------------------------------------------\n      BERT-base-uncased              4               32            0.307     \n      BERT-base-uncased              4               64             0.56     \n      BERT-base-uncased              4              128            1.048     \n      BERT-base-uncased              4              256            2.097     \n      BERT-base-uncased              4              512             5.06     \n   distilBERT-base-uncased           4               32            0.174     \n   distilBERT-base-uncased           4               64            0.307     \n   distilBERT-base-uncased           4              128            0.608     \n   distilBERT-base-uncased           4              256            1.241     \n   distilBERT-base-uncased           4              512            2.729     \n      distilroBERTa-base             4               32            0.216     \n      distilroBERTa-base             4               64            0.372     \n      distilroBERTa-base             4              128            0.763     \n      distilroBERTa-base             4              256            1.507     \n      distilroBERTa-base             4              512            3.165     \n distilBERT-base-german-cased        4               32            0.175     \n distilBERT-base-german-cased        4               64            0.314     \n distilBERT-base-german-cased        4              128            0.603     \n distilBERT-base-german-cased        4              256            1.256     \n distilBERT-base-german-cased        4              512            2.666     \n--------------------------------------------------------------------------------\n\n====================      INFERENCE - MEMORY - RESULT       ====================\n--------------------------------------------------------------------------------\n          Model Name             Batch Size     Seq Length    Memory in MB \n--------------------------------------------------------------------------------\n      BERT-base-uncased              4               32             2456     \n      BERT-base-uncased              4               64             2574     \n      BERT-base-uncased              4              128             2622     \n      BERT-base-uncased              4              256             2759     \n      BERT-base-uncased              4              512             2923     \n   distilBERT-base-uncased           4               32             2709     \n   distilBERT-base-uncased           4               64             2709     \n   distilBERT-base-uncased           4              128             2716     \n   distilBERT-base-uncased           4              256             2717     \n   distilBERT-base-uncased           4              512             2955     \n      distilroBERTa-base             4               32             2864     \n      distilroBERTa-base             4               64             2864     \n      distilroBERTa-base             4              128             2963     \n      distilroBERTa-base             4              256             3061     \n      distilroBERTa-base             4              512             3257     \n distilBERT-base-german-cased        4               32             2810     \n distilBERT-base-german-cased        4               64             2812     \n distilBERT-base-german-cased        4              128             2812     \n distilBERT-base-german-cased        4              256             2934     \n distilBERT-base-german-cased        4              512             3055     \n--------------------------------------------------------------------------------\n",
          "output_type": "stream"
        }
      ]
    },
    {
      "cell_type": "code",
      "source": [
        "import matplotlib.pyplot as plt\n",
        "plt.figure(figsize=(8,8))\n",
        "t=sequence_lengths\n",
        "models_perf=[list(results.time_inference_result[m]['result'][batch_sizes[0]].values())for m in models]\n",
        "plt.xlabel('Seq Length')\n",
        "plt.ylabel('Time in Second')\n",
        "plt.title('Inference Speed Result')\n",
        "plt.plot(t, models_perf[0], 'rs--', t, models_perf[1], 'g--.', t, models_perf[2], 'b--^', t, models_perf[3], 'c--o')\n",
        "plt.legend(models)\n",
        "plt.show()\n"
      ],
      "metadata": {
        "execution": {
          "iopub.status.busy": "2024-02-14T17:04:16.483088Z",
          "iopub.execute_input": "2024-02-14T17:04:16.483473Z",
          "iopub.status.idle": "2024-02-14T17:04:16.847819Z",
          "shell.execute_reply.started": "2024-02-14T17:04:16.483442Z",
          "shell.execute_reply": "2024-02-14T17:04:16.846858Z"
        },
        "trusted": true,
        "id": "T6dgtlwTlseq",
        "outputId": "4b8aa371-1cc3-4201-c9c1-8a753c68eb83"
      },
      "execution_count": null,
      "outputs": [
        {
          "output_type": "display_data",
          "data": {
            "text/plain": "<Figure size 800x800 with 1 Axes>",
            "image/png": "[encoded data removed]"
          },
          "metadata": {}
        }
      ]
    },
    {
      "cell_type": "code",
      "source": [],
      "metadata": {
        "id": "n9He40bilseq"
      },
      "execution_count": null,
      "outputs": []
    }
  ]
}